{
 "cells": [
  {
   "cell_type": "code",
   "execution_count": 1,
   "metadata": {},
   "outputs": [],
   "source": [
    "import pathlib\n",
    "import pandas as pd\n",
    "import numpy as np\n",
    "from sklearn.preprocessing import StandardScaler\n",
    "\n",
    "import sys\n",
    "sys.path.append(\"../utils\")\n",
    "from load_utils import compile_mitocheck_batch_data, split_data"
   ]
  },
  {
   "cell_type": "code",
   "execution_count": 2,
   "metadata": {},
   "outputs": [],
   "source": [
    "# get negative control features\n",
    "negative_control_data_path = pathlib.Path(\"../1.idr_streams/extracted_features/negative_control_data\")\n",
    "negative_control_data = compile_mitocheck_batch_data(negative_control_data_path)\n",
    "_, features_data = split_data(negative_control_data)\n",
    "\n",
    "\n",
    "# derive "
   ]
  },
  {
   "cell_type": "code",
   "execution_count": null,
   "metadata": {},
   "outputs": [],
   "source": []
  },
  {
   "cell_type": "code",
   "execution_count": 3,
   "metadata": {},
   "outputs": [
    {
     "name": "stdout",
     "output_type": "stream",
     "text": [
      "../1.idr_streams/extracted_features/positive_control_data\n",
      "../1.idr_streams/extracted_features/negative_control_data\n",
      "../1.idr_streams/extracted_features/training_data\n"
     ]
    }
   ],
   "source": [
    "results_dir = pathlib.Path(\"normalized_data/\")\n",
    "results_dir.mkdir(parents=True, exist_ok=True)\n",
    "\n",
    "raw_features_dir = pathlib.Path(\"../1.idr_streams/extracted_features\")\n",
    "for features_path in raw_features_dir.iterdir():\n",
    "    print(features_path)"
   ]
  },
  {
   "cell_type": "code",
   "execution_count": null,
   "metadata": {},
   "outputs": [],
   "source": [
    "test_path = \"/media/roshankern/hdd/cell-health-nuc-per-plate-normalized/SQ00014613_normalized_single_cell.csv.gz\"\n",
    "test = pd.read_csv(test_path, compression=\"gzip\")"
   ]
  }
 ],
 "metadata": {
  "kernelspec": {
   "display_name": "Python 3.8.13 ('2.analyze_training_data')",
   "language": "python",
   "name": "python3"
  },
  "language_info": {
   "codemirror_mode": {
    "name": "ipython",
    "version": 3
   },
   "file_extension": ".py",
   "mimetype": "text/x-python",
   "name": "python",
   "nbconvert_exporter": "python",
   "pygments_lexer": "ipython3",
   "version": "3.8.13"
  },
  "orig_nbformat": 4,
  "vscode": {
   "interpreter": {
    "hash": "ad1083e3dd16f562452e4d714b55bbc8d938c52aa784c0b2ae1ae118cac264ea"
   }
  }
 },
 "nbformat": 4,
 "nbformat_minor": 2
}
