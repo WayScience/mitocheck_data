{
 "cells": [
  {
   "cell_type": "code",
   "execution_count": 1,
   "metadata": {},
   "outputs": [],
   "source": [
    "import pathlib\n",
    "import pandas as pd\n",
    "import numpy as np\n",
    "from sklearn.preprocessing import StandardScaler\n",
    "\n",
    "import sys\n",
    "sys.path.append(\"../utils\")\n",
    "from load_utils import compile_mitocheck_batch_data, split_data\n",
    "from normalization_utils import get_normalization_scaler, get_normalized_mitocheck_data"
   ]
  },
  {
   "cell_type": "code",
   "execution_count": 2,
   "metadata": {},
   "outputs": [],
   "source": [
    "# get normalization scaler from negative control features (normalization population)\n",
    "negative_control_data_path = pathlib.Path(\"../1.idr_streams/extracted_features/negative_control_data\")\n",
    "normalization_scaler = get_normalization_scaler(negative_control_data_path)"
   ]
  },
  {
   "cell_type": "code",
   "execution_count": null,
   "metadata": {},
   "outputs": [],
   "source": [
    "results_dir = pathlib.Path(\"normalized_data/\")\n",
    "results_dir.mkdir(parents=True, exist_ok=True)"
   ]
  },
  {
   "cell_type": "code",
   "execution_count": null,
   "metadata": {},
   "outputs": [],
   "source": [
    "data_path = pathlib.Path(\"../1.idr_streams/extracted_features/negative_control_data\")\n",
    "data = compile_mitocheck_batch_data(data_path)\n",
    "normalized_data = get_normalized_mitocheck_data(data, normalization_scaler)\n",
    "\n",
    "save_path = pathlib.Path(f\"{results_dir}/{data_path.name}.csv.gz\")\n",
    "normalized_data.to_csv(save_path, compression=\"gzip\")"
   ]
  },
  {
   "cell_type": "code",
   "execution_count": null,
   "metadata": {},
   "outputs": [],
   "source": [
    "data_path = pathlib.Path(\"../1.idr_streams/extracted_features/positive_control_data\")\n",
    "data = compile_mitocheck_batch_data(data_path)\n",
    "normalized_data = get_normalized_mitocheck_data(data, normalization_scaler)\n",
    "\n",
    "save_path = pathlib.Path(f\"{results_dir}/{data_path.name}.csv.gz\")\n",
    "normalized_data.to_csv(save_path, compression=\"gzip\")"
   ]
  },
  {
   "cell_type": "code",
   "execution_count": null,
   "metadata": {},
   "outputs": [],
   "source": [
    "data_path = pathlib.Path(\"../2.format_training_data/results/training_data.csv.gz\")\n",
    "data = pd.read_csv(data_path, compression = \"gzip\")\n",
    "normalized_data = get_normalized_mitocheck_data(data, normalization_scaler)\n",
    "\n",
    "save_path = pathlib.Path(f\"{results_dir}/{data_path.name}\")\n",
    "normalized_data.to_csv(save_path, compression=\"gzip\")"
   ]
  }
 ],
 "metadata": {
  "kernelspec": {
   "display_name": "Python 3.8.13 ('mitocheck_data')",
   "language": "python",
   "name": "python3"
  },
  "language_info": {
   "codemirror_mode": {
    "name": "ipython",
    "version": 3
   },
   "file_extension": ".py",
   "mimetype": "text/x-python",
   "name": "python",
   "nbconvert_exporter": "python",
   "pygments_lexer": "ipython3",
   "version": "3.8.13"
  },
  "orig_nbformat": 4,
  "vscode": {
   "interpreter": {
    "hash": "6a8a2a08f220f21995bf3ea89450d54896262b1bf39109bbe0ac9ff6cde8a3ed"
   }
  }
 },
 "nbformat": 4,
 "nbformat_minor": 2
}
