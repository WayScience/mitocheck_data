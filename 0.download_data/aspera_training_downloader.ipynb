{
 "cells": [
  {
   "cell_type": "markdown",
   "metadata": {},
   "source": [
    "# Aspera Training Movie Downloader\n",
    "### Download training movies from IDR using the Aspera high-speed transfer client\n",
    "#### Import libraries"
   ]
  },
  {
   "cell_type": "code",
   "execution_count": 1,
   "metadata": {},
   "outputs": [],
   "source": [
    "import os\n",
    "import pandas as pd"
   ]
  },
  {
   "cell_type": "markdown",
   "metadata": {},
   "source": [
    "#### Determine Labeled Data\n",
    "Save plate/well of feature data to `training_locations.tsv`"
   ]
  },
  {
   "cell_type": "code",
   "execution_count": 2,
   "metadata": {},
   "outputs": [],
   "source": [
    "#Read plates listed in features dataset to figure out which wells from which plates have labeled data\n",
    "#Save these training locations into a file\n",
    "\n",
    "def save_training_wells(features_path, save_path):\n",
    "    data_list = []\n",
    "    for plate in os.listdir(features_path):\n",
    "        for well in os.listdir(features_path + plate + \"/features\"):\n",
    "            data_list.append([plate, well])\n",
    "    dataframe = pd.DataFrame(data_list, columns=['Plate', 'Well'])\n",
    "    dataframe.to_csv(save_path, sep=\"\\t\")\n",
    "    \n",
    "features_path = \"training_set/features/\"\n",
    "save_path = \"training_locations.tsv\"\n",
    "save_training_wells(features_path, save_path)"
   ]
  },
  {
   "cell_type": "markdown",
   "metadata": {},
   "source": [
    "#### Download movies that have labels\n",
    "Use Aspera to download wells listed in `training_locations.tsv`"
   ]
  },
  {
   "cell_type": "code",
   "execution_count": 3,
   "metadata": {},
   "outputs": [
    {
     "name": "stdout",
     "output_type": "stream",
     "text": [
      "sudo /home/roshankern/.aspera/ascli/sdk/ascp -TQ -l500m -P 33001 -i asperaweb_id_dsa.openssh idr0013@fasp.ebi.ac.uk:20150916-mitocheck-analysis/mitocheck/LT0043_48--ex2005_06_29--sp2005_05_19--tt163--c4/hdf5/00166_01.ch5 labeled_movies_ch5/LT0043_48/166\n",
      "Completed: 95099K bytes transferred in 3 seconds\n",
      " (195687K bits/sec), in 1 file.\n",
      "sudo /home/roshankern/.aspera/ascli/sdk/ascp -TQ -l500m -P 33001 -i asperaweb_id_dsa.openssh idr0013@fasp.ebi.ac.uk:20150916-mitocheck-analysis/mitocheck/LT0017_19--ex2005_07_06--sp2005_04_12--tt19--c5/hdf5/00365_01.ch5 labeled_movies_ch5/LT0017_19/365\n",
      "Completed: 49073K bytes transferred in 2 seconds\n",
      " (177947K bits/sec), in 1 file.\n",
      "sudo /home/roshankern/.aspera/ascli/sdk/ascp -TQ -l500m -P 33001 -i asperaweb_id_dsa.openssh idr0013@fasp.ebi.ac.uk:20150916-mitocheck-analysis/mitocheck/LT0064_14--ex2005_08_12--sp2005_06_06--tt17--c4/hdf5/00003_01.ch5 labeled_movies_ch5/LT0064_14/003\n",
      "Completed: 65365K bytes transferred in 2 seconds\n",
      " (191713K bits/sec), in 1 file.\n",
      "sudo /home/roshankern/.aspera/ascli/sdk/ascp -TQ -l500m -P 33001 -i asperaweb_id_dsa.openssh idr0013@fasp.ebi.ac.uk:20150916-mitocheck-analysis/mitocheck/LT0042_10--ex2005_06_24--sp2005_05_18--tt19--c3/hdf5/00044_01.ch5 labeled_movies_ch5/LT0042_10/044\n",
      "Completed: 59958K bytes transferred in 2 seconds\n",
      " (191874K bits/sec), in 1 file.\n",
      "sudo /home/roshankern/.aspera/ascli/sdk/ascp -TQ -l500m -P 33001 -i asperaweb_id_dsa.openssh idr0013@fasp.ebi.ac.uk:20150916-mitocheck-analysis/mitocheck/LT0042_10--ex2005_06_24--sp2005_05_18--tt19--c3/hdf5/00144_01.ch5 labeled_movies_ch5/LT0042_10/144\n",
      "Completed: 59473K bytes transferred in 2 seconds\n",
      " (175843K bits/sec), in 1 file.\n",
      "sudo /home/roshankern/.aspera/ascli/sdk/ascp -TQ -l500m -P 33001 -i asperaweb_id_dsa.openssh idr0013@fasp.ebi.ac.uk:20150916-mitocheck-analysis/mitocheck/LT0096_33--ex2005_08_12--sp2005_08_05--tt17--c4/hdf5/00255_01.ch5 labeled_movies_ch5/LT0096_33/255\n",
      "Completed: 66689K bytes transferred in 2 seconds\n",
      " (185045K bits/sec), in 1 file.\n",
      "can only convert an array of size 1 to a Python scalar\n",
      "sudo /home/roshankern/.aspera/ascli/sdk/ascp -TQ -l500m -P 33001 -i asperaweb_id_dsa.openssh idr0013@fasp.ebi.ac.uk:20150916-mitocheck-analysis/mitocheck/LT0030_17--ex2005_06_08--sp2005_01_01--tt17--c3/hdf5/00184_01.ch5 labeled_movies_ch5/LT0030_17/184\n",
      "Completed: 98795K bytes transferred in 3 seconds\n",
      " (225922K bits/sec), in 1 file.\n",
      "sudo /home/roshankern/.aspera/ascli/sdk/ascp -TQ -l500m -P 33001 -i asperaweb_id_dsa.openssh idr0013@fasp.ebi.ac.uk:20150916-mitocheck-analysis/mitocheck/LT0101_01--ex2005_12_16--sp2005_08_15--tt17--c5/hdf5/00277_01.ch5 labeled_movies_ch5/LT0101_01/277\n",
      "Completed: 86497K bytes transferred in 3 seconds\n",
      " (217179K bits/sec), in 1 file.\n",
      "sudo /home/roshankern/.aspera/ascli/sdk/ascp -TQ -l500m -P 33001 -i asperaweb_id_dsa.openssh idr0013@fasp.ebi.ac.uk:20150916-mitocheck-analysis/mitocheck/LT0144_01--ex2005_10_26--sp2005_10_13--tt173--c5/hdf5/00166_01.ch5 labeled_movies_ch5/LT0144_01/166\n",
      "Completed: 74497K bytes transferred in 2 seconds\n",
      " (213896K bits/sec), in 1 file.\n",
      "sudo /home/roshankern/.aspera/ascli/sdk/ascp -TQ -l500m -P 33001 -i asperaweb_id_dsa.openssh idr0013@fasp.ebi.ac.uk:20150916-mitocheck-analysis/mitocheck/LT0094_44--ex2005_08_17--sp2005_08_03--tt17--c5/hdf5/00319_01.ch5 labeled_movies_ch5/LT0094_44/319\n",
      "Completed: 50997K bytes transferred in 2 seconds\n",
      " (172864K bits/sec), in 1 file.\n",
      "sudo /home/roshankern/.aspera/ascli/sdk/ascp -TQ -l500m -P 33001 -i asperaweb_id_dsa.openssh idr0013@fasp.ebi.ac.uk:20150916-mitocheck-analysis/mitocheck/LT0023_04--ex2005_09_09--sp2005_04_19--tt17--c4/hdf5/00005_01.ch5 labeled_movies_ch5/LT0023_04/005\n",
      "Completed: 78180K bytes transferred in 3 seconds\n",
      " (210183K bits/sec), in 1 file.\n",
      "sudo /home/roshankern/.aspera/ascli/sdk/ascp -TQ -l500m -P 33001 -i asperaweb_id_dsa.openssh idr0013@fasp.ebi.ac.uk:20150916-mitocheck-analysis/mitocheck/LT0038_01--ex2005_12_09--sp2005_05_10--tt17--c3/hdf5/00245_01.ch5 labeled_movies_ch5/LT0038_01/245\n",
      "Completed: 66829K bytes transferred in 2 seconds\n",
      " (207663K bits/sec), in 1 file.\n",
      "sudo /home/roshankern/.aspera/ascli/sdk/ascp -TQ -l500m -P 33001 -i asperaweb_id_dsa.openssh idr0013@fasp.ebi.ac.uk:20150916-mitocheck-analysis/mitocheck/LT0014_12--ex2005_05_27--sp2005_04_11--tt18--c4/hdf5/00159_01.ch5 labeled_movies_ch5/LT0014_12/159\n",
      "Completed: 65014K bytes transferred in 2 seconds\n",
      " (198319K bits/sec), in 1 file.\n",
      "sudo /home/roshankern/.aspera/ascli/sdk/ascp -TQ -l500m -P 33001 -i asperaweb_id_dsa.openssh idr0013@fasp.ebi.ac.uk:20150916-mitocheck-analysis/mitocheck/LT0028_14--ex2005_06_10--sp2005_04_29--tt16--c3/hdf5/00129_01.ch5 labeled_movies_ch5/LT0028_14/129\n",
      "Completed: 72521K bytes transferred in 2 seconds\n",
      " (199454K bits/sec), in 1 file.\n",
      "sudo /home/roshankern/.aspera/ascli/sdk/ascp -TQ -l500m -P 33001 -i asperaweb_id_dsa.openssh idr0013@fasp.ebi.ac.uk:20150916-mitocheck-analysis/mitocheck/LT0084_46--ex2005_08_03--sp2005_07_07--tt17--c4/hdf5/00003_01.ch5 labeled_movies_ch5/LT0084_46/003\n",
      "Completed: 68568K bytes transferred in 2 seconds\n",
      " (188214K bits/sec), in 1 file.\n",
      "sudo /home/roshankern/.aspera/ascli/sdk/ascp -TQ -l500m -P 33001 -i asperaweb_id_dsa.openssh idr0013@fasp.ebi.ac.uk:20150916-mitocheck-analysis/mitocheck/LT0066_19--ex2005_07_22--sp2005_06_07--tt173--c5/hdf5/00287_01.ch5 labeled_movies_ch5/LT0066_19/287\n",
      "Completed: 81093K bytes transferred in 3 seconds\n",
      " (201888K bits/sec), in 1 file.\n",
      "sudo /home/roshankern/.aspera/ascli/sdk/ascp -TQ -l500m -P 33001 -i asperaweb_id_dsa.openssh idr0013@fasp.ebi.ac.uk:20150916-mitocheck-analysis/mitocheck/LT0027_44--ex2005_06_03--sp2005_04_27--tt17--c5/hdf5/00030_01.ch5 labeled_movies_ch5/LT0027_44/030\n",
      "Completed: 52707K bytes transferred in 2 seconds\n",
      " (151838K bits/sec), in 1 file.\n",
      "sudo /home/roshankern/.aspera/ascli/sdk/ascp -TQ -l500m -P 33001 -i asperaweb_id_dsa.openssh idr0013@fasp.ebi.ac.uk:20150916-mitocheck-analysis/mitocheck/LT0027_44--ex2005_06_03--sp2005_04_27--tt17--c5/hdf5/00292_01.ch5 labeled_movies_ch5/LT0027_44/292\n",
      "Completed: 65172K bytes transferred in 2 seconds\n",
      " (188666K bits/sec), in 1 file.\n",
      "sudo /home/roshankern/.aspera/ascli/sdk/ascp -TQ -l500m -P 33001 -i asperaweb_id_dsa.openssh idr0013@fasp.ebi.ac.uk:20150916-mitocheck-analysis/mitocheck/LT0067_02--ex2006_06_30--sp2005_06_28--tt18--c3/hdf5/00099_01.ch5 labeled_movies_ch5/LT0067_02/099\n",
      "Completed: 53911K bytes transferred in 2 seconds\n",
      " (152977K bits/sec), in 1 file.\n",
      "sudo /home/roshankern/.aspera/ascli/sdk/ascp -TQ -l500m -P 33001 -i asperaweb_id_dsa.openssh idr0013@fasp.ebi.ac.uk:20150916-mitocheck-analysis/mitocheck/LT0093_17--ex2005_08_17--sp2005_08_02--tt17--c5/hdf5/00114_01.ch5 labeled_movies_ch5/LT0093_17/114\n",
      "Completed: 75274K bytes transferred in 3 seconds\n",
      " (203116K bits/sec), in 1 file.\n",
      "sudo /home/roshankern/.aspera/ascli/sdk/ascp -TQ -l500m -P 33001 -i asperaweb_id_dsa.openssh idr0013@fasp.ebi.ac.uk:20150916-mitocheck-analysis/mitocheck/LT0038_27--ex2005_06_17--sp2005_05_10--tt17--c4/hdf5/00250_01.ch5 labeled_movies_ch5/LT0038_27/250\n",
      "Completed: 62863K bytes transferred in 3 seconds\n",
      " (168417K bits/sec), in 1 file.\n",
      "sudo /home/roshankern/.aspera/ascli/sdk/ascp -TQ -l500m -P 33001 -i asperaweb_id_dsa.openssh idr0013@fasp.ebi.ac.uk:20150916-mitocheck-analysis/mitocheck/LT0065_06--ex2005_07_13--sp2005_06_07--tt173--c4/hdf5/00054_01.ch5 labeled_movies_ch5/LT0065_06/054\n",
      "Completed: 54355K bytes transferred in 3 seconds\n",
      " (134602K bits/sec), in 1 file.\n",
      "sudo /home/roshankern/.aspera/ascli/sdk/ascp -TQ -l500m -P 33001 -i asperaweb_id_dsa.openssh idr0013@fasp.ebi.ac.uk:20150916-mitocheck-analysis/mitocheck/LT0026_22--ex2005_06_01--sp2005_04_26--tt17--c5/hdf5/00258_01.ch5 labeled_movies_ch5/LT0026_22/258\n",
      "Completed: 67922K bytes transferred in 3 seconds\n",
      " (163969K bits/sec), in 1 file.\n",
      "sudo /home/roshankern/.aspera/ascli/sdk/ascp -TQ -l500m -P 33001 -i asperaweb_id_dsa.openssh idr0013@fasp.ebi.ac.uk:20150916-mitocheck-analysis/mitocheck/LT0109_38--ex2005_09_21--sp2005_08_24--tt17--c5/hdf5/00349_01.ch5 labeled_movies_ch5/LT0109_38/349\n",
      "Completed: 54700K bytes transferred in 2 seconds\n",
      " (179969K bits/sec), in 1 file.\n",
      "sudo /home/roshankern/.aspera/ascli/sdk/ascp -TQ -l500m -P 33001 -i asperaweb_id_dsa.openssh idr0013@fasp.ebi.ac.uk:20150916-mitocheck-analysis/mitocheck/LT0109_38--ex2005_09_21--sp2005_08_24--tt17--c5/hdf5/00338_01.ch5 labeled_movies_ch5/LT0109_38/338\n",
      "Completed: 45207K bytes transferred in 2 seconds\n",
      " (164079K bits/sec), in 1 file.\n",
      "sudo /home/roshankern/.aspera/ascli/sdk/ascp -TQ -l500m -P 33001 -i asperaweb_id_dsa.openssh idr0013@fasp.ebi.ac.uk:20150916-mitocheck-analysis/mitocheck/LT0109_38--ex2005_09_21--sp2005_08_24--tt17--c5/hdf5/00381_01.ch5 labeled_movies_ch5/LT0109_38/381\n"
     ]
    }
   ],
   "source": [
    "def download_labeled_data(training_locations_path, screens_path, aspera_path, key_path, download_path):\n",
    "    training_locations = pd.read_csv(training_locations_path, sep=\"\\t\")\n",
    "    screens = pd.read_csv(screens_path, sep=\"\\t\", header=None)\n",
    "    screens.columns = [\"Plate\", \"Screen\"]\n",
    "    \n",
    "    #download each well from IDR, if it is available on IDR\n",
    "    for index, row in training_locations.iterrows():\n",
    "        try:\n",
    "            #example command: \n",
    "            \"\"\"sudo /home/roshankern/.aspera/ascli/sdk/ascp\n",
    "            -TQ -l500m -P 33001 -i /home/roshankern/Desktop/aspera/asperaweb_\n",
    "            id_dsa.openssh idr0013@fasp.ebi.ac.uk:20150916-mitocheck-analysis/mitocheck/LT0001_02--ex2005_11_16--sp2005_02_17--tt17--c3/hdf5/00002_01.ch5 \n",
    "            0.download_data/labeled_movies_ch5/\"\"\"\n",
    "            \n",
    "            #get location of screen\n",
    "            screen_loc = screens.loc[screens['Plate'] == row['Plate'], 'Screen'].item().removeprefix(\"../screens/\").removesuffix(\".screen\")\n",
    "            \n",
    "            well_path = \"20150916-mitocheck-analysis/mitocheck/\" + screen_loc + \"/hdf5/00\" + \"{:03d}\".format(row['Well']) + \"_01.ch5\"\n",
    "            idr_location = \"idr0013@fasp.ebi.ac.uk:\" + well_path + \" \"\n",
    "            \n",
    "            os.makedirs(download_path + row['Plate'] + \"/\" + \"{:03d}\".format(row['Well']))\n",
    "            command = \"sudo \" + aspera_path + \" -TQ -l500m -P 33001 -i \" + key_path + \" \" + idr_location + download_path + row['Plate'] + \"/\" + \"{:03d}\".format(row['Well'])\n",
    "            print(command)\n",
    "            os.system(command)\n",
    "        except Exception as e: #some plates are not available on IDR\n",
    "            print(e)\n",
    "\n",
    "\n",
    "aspera_path = \"/home/roshankern/.aspera/ascli/sdk/ascp\"\n",
    "key_path = \"asperaweb_id_dsa.openssh\"\n",
    "os.makedirs(\"labeled_movies_ch5/\", exist_ok=True)\n",
    "download_path = \"labeled_movies_ch5/\"\n",
    "\n",
    "training_locations_path = \"training_locations.tsv\"\n",
    "screens_path = \"idr0013-screenA-plates.tsv\"\n",
    "\n",
    "download_labeled_data(training_locations_path, screens_path, aspera_path, key_path, download_path)"
   ]
  }
 ],
 "metadata": {
  "kernelspec": {
   "display_name": "Python 3.10.4 64-bit",
   "language": "python",
   "name": "python3"
  },
  "language_info": {
   "codemirror_mode": {
    "name": "ipython",
    "version": 3
   },
   "file_extension": ".py",
   "mimetype": "text/x-python",
   "name": "python",
   "nbconvert_exporter": "python",
   "pygments_lexer": "ipython3",
   "version": "3.10.4"
  },
  "orig_nbformat": 4,
  "vscode": {
   "interpreter": {
    "hash": "916dbcbb3f70747c44a77c7bcd40155683ae19c65e1c03b4aa3499c5328201f1"
   }
  }
 },
 "nbformat": 4,
 "nbformat_minor": 2
}
