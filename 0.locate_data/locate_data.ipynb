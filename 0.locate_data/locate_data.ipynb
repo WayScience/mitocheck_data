{
 "cells": [
  {
   "cell_type": "code",
   "execution_count": 1,
   "metadata": {},
   "outputs": [],
   "source": [
    "import pandas as pd\n",
    "import pathlib\n",
    "import re\n",
    "import numpy as np\n",
    "\n",
    "from locate_utils import get_training_locations, get_control_locations"
   ]
  },
  {
   "cell_type": "code",
   "execution_count": 2,
   "metadata": {},
   "outputs": [],
   "source": [
    "annotations_path = pathlib.Path(\"idr0013-screenA-annotation.csv.gz\")\n",
    "\n",
    "locations_dir = pathlib.Path(\"locations/\")\n",
    "locations_dir.mkdir(exist_ok=True, parents=True)"
   ]
  },
  {
   "cell_type": "code",
   "execution_count": 3,
   "metadata": {},
   "outputs": [
    {
     "name": "stdout",
     "output_type": "stream",
     "text": [
      "Image from LT0002_17, 36 not in IDR\n",
      "Image from LT0155_02, 24 not in IDR\n",
      "Image from LT0155_02, 24 not in IDR\n",
      "Image from LT0078_27, 244 not in IDR\n",
      "Image from LT0002_17, 36 not in IDR\n",
      "Image from LT0155_02, 24 not in IDR\n",
      "Image from LT0002_17, 36 not in IDR\n",
      "Image from LT0002_17, 36 not in IDR\n",
      "Image from LT0155_02, 24 not in IDR\n",
      "Image from LT0111_45, 53 not in IDR\n",
      "Image from LT0002_17, 36 not in IDR\n",
      "Image from LT0002_17, 36 not in IDR\n",
      "Image from LT0111_45, 53 not in IDR\n",
      "Image from LT0111_45, 53 not in IDR\n",
      "Image from LT0078_27, 244 not in IDR\n",
      "Image from LT0111_45, 53 not in IDR\n",
      "Image from LT0078_27, 244 not in IDR\n",
      "Image from LT0002_17, 36 not in IDR\n",
      "Image from LT0111_45, 53 not in IDR\n",
      "Image from LT0111_45, 53 not in IDR\n",
      "Image from LT0155_02, 24 not in IDR\n",
      "Image from LT0002_17, 36 not in IDR\n"
     ]
    }
   ],
   "source": [
    "features_path = pathlib.Path(\"trainingset_2007_06_21.dat\")\n",
    "training_save_path = pathlib.Path(f\"{locations_dir}/training_locations.tsv\")\n",
    "\n",
    "training_data_locations = get_training_locations(features_path, annotations_path)\n",
    "training_data_locations.to_csv(training_save_path, sep=\"\\t\")"
   ]
  },
  {
   "cell_type": "code",
   "execution_count": 4,
   "metadata": {},
   "outputs": [
    {
     "name": "stderr",
     "output_type": "stream",
     "text": [
      "/home/roshankern/Desktop/Github/mitocheck_data/0.locate_data/locate_utils.py:102: SettingWithCopyWarning: \n",
      "A value is trying to be set on a copy of a slice from a DataFrame.\n",
      "Try using .loc[row_indexer,col_indexer] = value instead\n",
      "\n",
      "See the caveats in the documentation: https://pandas.pydata.org/pandas-docs/stable/user_guide/indexing.html#returning-a-view-versus-a-copy\n",
      "  control_locations[\"Original Gene Target\"] = control_locations[\n",
      "/home/roshankern/Desktop/Github/mitocheck_data/0.locate_data/locate_utils.py:109: SettingWithCopyWarning: \n",
      "A value is trying to be set on a copy of a slice from a DataFrame.\n",
      "Try using .loc[row_indexer,col_indexer] = value instead\n",
      "\n",
      "See the caveats in the documentation: https://pandas.pydata.org/pandas-docs/stable/user_guide/indexing.html#returning-a-view-versus-a-copy\n",
      "  control_locations[\"Frames\"] = frames\n"
     ]
    }
   ],
   "source": [
    "negative_control_save_path = pathlib.Path(f\"{locations_dir}/negative_control_locations.tsv\")\n",
    "\n",
    "negative_control_locations = get_control_locations(annotations_path, control_type=\"negative\")\n",
    "negative_control_locations.to_csv(negative_control_save_path, sep=\"\\t\")"
   ]
  },
  {
   "cell_type": "code",
   "execution_count": 5,
   "metadata": {},
   "outputs": [
    {
     "name": "stderr",
     "output_type": "stream",
     "text": [
      "/home/roshankern/Desktop/Github/mitocheck_data/0.locate_data/locate_utils.py:102: SettingWithCopyWarning: \n",
      "A value is trying to be set on a copy of a slice from a DataFrame.\n",
      "Try using .loc[row_indexer,col_indexer] = value instead\n",
      "\n",
      "See the caveats in the documentation: https://pandas.pydata.org/pandas-docs/stable/user_guide/indexing.html#returning-a-view-versus-a-copy\n",
      "  control_locations[\"Original Gene Target\"] = control_locations[\n",
      "/home/roshankern/Desktop/Github/mitocheck_data/0.locate_data/locate_utils.py:109: SettingWithCopyWarning: \n",
      "A value is trying to be set on a copy of a slice from a DataFrame.\n",
      "Try using .loc[row_indexer,col_indexer] = value instead\n",
      "\n",
      "See the caveats in the documentation: https://pandas.pydata.org/pandas-docs/stable/user_guide/indexing.html#returning-a-view-versus-a-copy\n",
      "  control_locations[\"Frames\"] = frames\n"
     ]
    }
   ],
   "source": [
    "positive_control_save_path = pathlib.Path(f\"{locations_dir}/positive_control_locations.tsv\")\n",
    "\n",
    "positive_control_locations = get_control_locations(annotations_path, control_type=\"positive\")\n",
    "positive_control_locations.to_csv(positive_control_save_path, sep=\"\\t\")"
   ]
  }
 ],
 "metadata": {
  "kernelspec": {
   "display_name": "Python 3.8.13 ('IDR_stream')",
   "language": "python",
   "name": "python3"
  },
  "language_info": {
   "codemirror_mode": {
    "name": "ipython",
    "version": 3
   },
   "file_extension": ".py",
   "mimetype": "text/x-python",
   "name": "python",
   "nbconvert_exporter": "python",
   "pygments_lexer": "ipython3",
   "version": "3.8.13"
  },
  "orig_nbformat": 4,
  "vscode": {
   "interpreter": {
    "hash": "8670c1752d8b30f6b79110f3a7164fbb604e53a48b4190f3b3261fda6dff5a4e"
   }
  }
 },
 "nbformat": 4,
 "nbformat_minor": 2
}
