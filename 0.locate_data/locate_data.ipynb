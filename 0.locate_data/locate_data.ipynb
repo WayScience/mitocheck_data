{
 "cells": [
  {
   "cell_type": "markdown",
   "metadata": {},
   "source": [
    "### Import libraries"
   ]
  },
  {
   "cell_type": "code",
   "execution_count": 1,
   "metadata": {},
   "outputs": [],
   "source": [
    "import pandas as pd\n",
    "import pathlib\n",
    "import re\n",
    "import numpy as np\n",
    "\n",
    "import sys\n",
    "sys.path.append(\"../utils/\")\n",
    "from locate_utils import get_training_locations, get_control_locations"
   ]
  },
  {
   "cell_type": "markdown",
   "metadata": {},
   "source": [
    "### Specify paths"
   ]
  },
  {
   "cell_type": "code",
   "execution_count": 2,
   "metadata": {},
   "outputs": [],
   "source": [
    "annotations_path = pathlib.Path(\"idr0013-screenA-annotation.csv.gz\")\n",
    "features_path = pathlib.Path(\"trainingset_2007_06_21.dat\")\n",
    "\n",
    "locations_dir = pathlib.Path(\"locations/\")\n",
    "locations_dir.mkdir(exist_ok=True, parents=True)"
   ]
  },
  {
   "cell_type": "markdown",
   "metadata": {},
   "source": [
    "### Find/save training locations"
   ]
  },
  {
   "cell_type": "code",
   "execution_count": 3,
   "metadata": {},
   "outputs": [
    {
     "name": "stdout",
     "output_type": "stream",
     "text": [
      "Image from LT0002_17, 36 not in IDR\n",
      "Image from LT0155_02, 24 not in IDR\n",
      "Image from LT0155_02, 24 not in IDR\n",
      "Image from LT0078_27, 244 not in IDR\n",
      "Image from LT0002_17, 36 not in IDR\n",
      "Image from LT0155_02, 24 not in IDR\n",
      "Image from LT0002_17, 36 not in IDR\n",
      "Image from LT0002_17, 36 not in IDR\n",
      "Image from LT0155_02, 24 not in IDR\n",
      "Image from LT0111_45, 53 not in IDR\n",
      "Image from LT0002_17, 36 not in IDR\n",
      "Image from LT0002_17, 36 not in IDR\n",
      "Image from LT0111_45, 53 not in IDR\n",
      "Image from LT0111_45, 53 not in IDR\n",
      "Image from LT0078_27, 244 not in IDR\n",
      "Image from LT0111_45, 53 not in IDR\n",
      "Image from LT0078_27, 244 not in IDR\n",
      "Image from LT0002_17, 36 not in IDR\n",
      "Image from LT0111_45, 53 not in IDR\n",
      "Image from LT0111_45, 53 not in IDR\n",
      "Image from LT0155_02, 24 not in IDR\n",
      "Image from LT0002_17, 36 not in IDR\n",
      "(50, 5)\n"
     ]
    },
    {
     "data": {
      "text/html": [
       "<div>\n",
       "<style scoped>\n",
       "    .dataframe tbody tr th:only-of-type {\n",
       "        vertical-align: middle;\n",
       "    }\n",
       "\n",
       "    .dataframe tbody tr th {\n",
       "        vertical-align: top;\n",
       "    }\n",
       "\n",
       "    .dataframe thead th {\n",
       "        text-align: right;\n",
       "    }\n",
       "</style>\n",
       "<table border=\"1\" class=\"dataframe\">\n",
       "  <thead>\n",
       "    <tr style=\"text-align: right;\">\n",
       "      <th></th>\n",
       "      <th>Plate</th>\n",
       "      <th>Well</th>\n",
       "      <th>Well Number</th>\n",
       "      <th>Frames</th>\n",
       "      <th>Original Gene Target</th>\n",
       "    </tr>\n",
       "  </thead>\n",
       "  <tbody>\n",
       "    <tr>\n",
       "      <th>0</th>\n",
       "      <td>LT0098_13</td>\n",
       "      <td>A21</td>\n",
       "      <td>21</td>\n",
       "      <td>77,21,27,33</td>\n",
       "      <td>ENSG00000110675</td>\n",
       "    </tr>\n",
       "    <tr>\n",
       "      <th>1</th>\n",
       "      <td>LT0132_31</td>\n",
       "      <td>C5</td>\n",
       "      <td>53</td>\n",
       "      <td>33,75,37,42,51,63</td>\n",
       "      <td>ENSG00000123416</td>\n",
       "    </tr>\n",
       "    <tr>\n",
       "      <th>2</th>\n",
       "      <td>LT0093_17</td>\n",
       "      <td>E18</td>\n",
       "      <td>114</td>\n",
       "      <td>45,72,46,88,83,79,87</td>\n",
       "      <td>ENSG00000174442</td>\n",
       "    </tr>\n",
       "    <tr>\n",
       "      <th>3</th>\n",
       "      <td>LT0094_04</td>\n",
       "      <td>N7</td>\n",
       "      <td>319</td>\n",
       "      <td>7,66,61,89,73,5,93,30</td>\n",
       "      <td>ENSG00000177426</td>\n",
       "    </tr>\n",
       "    <tr>\n",
       "      <th>4</th>\n",
       "      <td>LT0026_22</td>\n",
       "      <td>K18</td>\n",
       "      <td>258</td>\n",
       "      <td>85,37,25,95,67</td>\n",
       "      <td>LCK</td>\n",
       "    </tr>\n",
       "  </tbody>\n",
       "</table>\n",
       "</div>"
      ],
      "text/plain": [
       "       Plate Well  Well Number                 Frames Original Gene Target\n",
       "0  LT0098_13  A21           21            77,21,27,33      ENSG00000110675\n",
       "1  LT0132_31   C5           53      33,75,37,42,51,63      ENSG00000123416\n",
       "2  LT0093_17  E18          114   45,72,46,88,83,79,87      ENSG00000174442\n",
       "3  LT0094_04   N7          319  7,66,61,89,73,5,93,30      ENSG00000177426\n",
       "4  LT0026_22  K18          258         85,37,25,95,67                  LCK"
      ]
     },
     "execution_count": 3,
     "metadata": {},
     "output_type": "execute_result"
    }
   ],
   "source": [
    "training_save_path = pathlib.Path(f\"{locations_dir}/training_locations.tsv\")\n",
    "\n",
    "training_data_locations = get_training_locations(features_path, annotations_path)\n",
    "training_data_locations.to_csv(training_save_path, sep=\"\\t\")\n",
    "\n",
    "print(training_data_locations.shape)\n",
    "training_data_locations.head()"
   ]
  },
  {
   "cell_type": "markdown",
   "metadata": {},
   "source": [
    "### Find/save negative control locations"
   ]
  },
  {
   "cell_type": "code",
   "execution_count": 4,
   "metadata": {},
   "outputs": [
    {
     "name": "stdout",
     "output_type": "stream",
     "text": [
      "(3853, 5)\n"
     ]
    },
    {
     "data": {
      "text/html": [
       "<div>\n",
       "<style scoped>\n",
       "    .dataframe tbody tr th:only-of-type {\n",
       "        vertical-align: middle;\n",
       "    }\n",
       "\n",
       "    .dataframe tbody tr th {\n",
       "        vertical-align: top;\n",
       "    }\n",
       "\n",
       "    .dataframe thead th {\n",
       "        text-align: right;\n",
       "    }\n",
       "</style>\n",
       "<table border=\"1\" class=\"dataframe\">\n",
       "  <thead>\n",
       "    <tr style=\"text-align: right;\">\n",
       "      <th></th>\n",
       "      <th>Plate</th>\n",
       "      <th>Well</th>\n",
       "      <th>Well Number</th>\n",
       "      <th>Original Gene Target</th>\n",
       "      <th>Frames</th>\n",
       "    </tr>\n",
       "  </thead>\n",
       "  <tbody>\n",
       "    <tr>\n",
       "      <th>0</th>\n",
       "      <td>LT0001_02</td>\n",
       "      <td>A15</td>\n",
       "      <td>15</td>\n",
       "      <td>negative control</td>\n",
       "      <td>43</td>\n",
       "    </tr>\n",
       "    <tr>\n",
       "      <th>1</th>\n",
       "      <td>LT0001_02</td>\n",
       "      <td>B2</td>\n",
       "      <td>26</td>\n",
       "      <td>negative control</td>\n",
       "      <td>46</td>\n",
       "    </tr>\n",
       "    <tr>\n",
       "      <th>2</th>\n",
       "      <td>LT0001_02</td>\n",
       "      <td>C15</td>\n",
       "      <td>63</td>\n",
       "      <td>negative control</td>\n",
       "      <td>52</td>\n",
       "    </tr>\n",
       "    <tr>\n",
       "      <th>3</th>\n",
       "      <td>LT0001_02</td>\n",
       "      <td>D2</td>\n",
       "      <td>74</td>\n",
       "      <td>negative control</td>\n",
       "      <td>31</td>\n",
       "    </tr>\n",
       "    <tr>\n",
       "      <th>4</th>\n",
       "      <td>LT0001_02</td>\n",
       "      <td>M16</td>\n",
       "      <td>304</td>\n",
       "      <td>negative control</td>\n",
       "      <td>34</td>\n",
       "    </tr>\n",
       "  </tbody>\n",
       "</table>\n",
       "</div>"
      ],
      "text/plain": [
       "       Plate Well Well Number Original Gene Target  Frames\n",
       "0  LT0001_02  A15          15     negative control      43\n",
       "1  LT0001_02   B2          26     negative control      46\n",
       "2  LT0001_02  C15          63     negative control      52\n",
       "3  LT0001_02   D2          74     negative control      31\n",
       "4  LT0001_02  M16         304     negative control      34"
      ]
     },
     "execution_count": 4,
     "metadata": {},
     "output_type": "execute_result"
    }
   ],
   "source": [
    "negative_control_save_path = pathlib.Path(f\"{locations_dir}/negative_control_locations.tsv\")\n",
    "\n",
    "negative_control_locations = get_control_locations(annotations_path, \"negative\", 0)\n",
    "negative_control_locations.to_csv(negative_control_save_path, sep=\"\\t\")\n",
    "\n",
    "print(negative_control_locations.shape)\n",
    "negative_control_locations.head()"
   ]
  },
  {
   "cell_type": "markdown",
   "metadata": {},
   "source": [
    "### Find/save positive control locations"
   ]
  },
  {
   "cell_type": "code",
   "execution_count": 5,
   "metadata": {},
   "outputs": [
    {
     "name": "stdout",
     "output_type": "stream",
     "text": [
      "(2890, 5)\n"
     ]
    },
    {
     "data": {
      "text/html": [
       "<div>\n",
       "<style scoped>\n",
       "    .dataframe tbody tr th:only-of-type {\n",
       "        vertical-align: middle;\n",
       "    }\n",
       "\n",
       "    .dataframe tbody tr th {\n",
       "        vertical-align: top;\n",
       "    }\n",
       "\n",
       "    .dataframe thead th {\n",
       "        text-align: right;\n",
       "    }\n",
       "</style>\n",
       "<table border=\"1\" class=\"dataframe\">\n",
       "  <thead>\n",
       "    <tr style=\"text-align: right;\">\n",
       "      <th></th>\n",
       "      <th>Plate</th>\n",
       "      <th>Well</th>\n",
       "      <th>Well Number</th>\n",
       "      <th>Original Gene Target</th>\n",
       "      <th>Frames</th>\n",
       "    </tr>\n",
       "  </thead>\n",
       "  <tbody>\n",
       "    <tr>\n",
       "      <th>0</th>\n",
       "      <td>LT0001_02</td>\n",
       "      <td>A4</td>\n",
       "      <td>4</td>\n",
       "      <td>ENSG00000149503</td>\n",
       "      <td>36</td>\n",
       "    </tr>\n",
       "    <tr>\n",
       "      <th>1</th>\n",
       "      <td>LT0001_02</td>\n",
       "      <td>C1</td>\n",
       "      <td>49</td>\n",
       "      <td>ENSG00000149503</td>\n",
       "      <td>42</td>\n",
       "    </tr>\n",
       "    <tr>\n",
       "      <th>2</th>\n",
       "      <td>LT0001_02</td>\n",
       "      <td>C4</td>\n",
       "      <td>52</td>\n",
       "      <td>ENSG00000149503</td>\n",
       "      <td>43</td>\n",
       "    </tr>\n",
       "    <tr>\n",
       "      <th>3</th>\n",
       "      <td>LT0001_09</td>\n",
       "      <td>A4</td>\n",
       "      <td>4</td>\n",
       "      <td>ENSG00000149503</td>\n",
       "      <td>39</td>\n",
       "    </tr>\n",
       "    <tr>\n",
       "      <th>4</th>\n",
       "      <td>LT0001_09</td>\n",
       "      <td>C1</td>\n",
       "      <td>49</td>\n",
       "      <td>ENSG00000149503</td>\n",
       "      <td>62</td>\n",
       "    </tr>\n",
       "  </tbody>\n",
       "</table>\n",
       "</div>"
      ],
      "text/plain": [
       "       Plate Well Well Number Original Gene Target  Frames\n",
       "0  LT0001_02   A4           4      ENSG00000149503      36\n",
       "1  LT0001_02   C1          49      ENSG00000149503      42\n",
       "2  LT0001_02   C4          52      ENSG00000149503      43\n",
       "3  LT0001_09   A4           4      ENSG00000149503      39\n",
       "4  LT0001_09   C1          49      ENSG00000149503      62"
      ]
     },
     "execution_count": 5,
     "metadata": {},
     "output_type": "execute_result"
    }
   ],
   "source": [
    "positive_control_save_path = pathlib.Path(f\"{locations_dir}/positive_control_locations.tsv\")\n",
    "\n",
    "positive_control_locations = get_control_locations(annotations_path, \"positive\", 1)\n",
    "positive_control_locations.to_csv(positive_control_save_path, sep=\"\\t\")\n",
    "\n",
    "print(positive_control_locations.shape)\n",
    "positive_control_locations.head()"
   ]
  }
 ],
 "metadata": {
  "kernelspec": {
   "display_name": "Python 3.8.13 ('mitocheck_data')",
   "language": "python",
   "name": "python3"
  },
  "language_info": {
   "codemirror_mode": {
    "name": "ipython",
    "version": 3
   },
   "file_extension": ".py",
   "mimetype": "text/x-python",
   "name": "python",
   "nbconvert_exporter": "python",
   "pygments_lexer": "ipython3",
   "version": "3.8.13"
  },
  "orig_nbformat": 4,
  "vscode": {
   "interpreter": {
    "hash": "6a8a2a08f220f21995bf3ea89450d54896262b1bf39109bbe0ac9ff6cde8a3ed"
   }
  }
 },
 "nbformat": 4,
 "nbformat_minor": 2
}
