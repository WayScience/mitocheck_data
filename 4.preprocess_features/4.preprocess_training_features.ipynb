{
 "cells": [
  {
   "cell_type": "markdown",
   "metadata": {},
   "source": [
    "# Use PyCytominer to normalize single cell data from DeepProfiler run\n",
    "\n",
    "### Import libraries "
   ]
  },
  {
   "cell_type": "code",
   "execution_count": 1,
   "metadata": {},
   "outputs": [],
   "source": [
    "import pathlib\n",
    "from pycytominer.cyto_utils import DeepProfiler_processing\n",
    "import pandas as pd"
   ]
  },
  {
   "cell_type": "markdown",
   "metadata": {},
   "source": [
    "### PyCytominer normalization"
   ]
  },
  {
   "cell_type": "code",
   "execution_count": 2,
   "metadata": {},
   "outputs": [
    {
     "name": "stderr",
     "output_type": "stream",
     "text": [
      "/home/roshankern/anaconda3/envs/4.preprocess_features_mitocheck/lib/python3.8/site-packages/pycytominer/cyto_utils/DeepProfiler_processing.py:383: UserWarning: No features could be found at ../3.extract_features/outputs/efn_pretrained/features/LT0144_01/166_68/1.npz.\n",
      "This program will continue, but be aware that this might induce errors!\n",
      "  warnings.warn(\n",
      "/home/roshankern/anaconda3/envs/4.preprocess_features_mitocheck/lib/python3.8/site-packages/pycytominer/cyto_utils/DeepProfiler_processing.py:383: UserWarning: No features could be found at ../3.extract_features/outputs/efn_pretrained/features/LT0109_38/349_25/1.npz.\n",
      "This program will continue, but be aware that this might induce errors!\n",
      "  warnings.warn(\n",
      "/home/roshankern/anaconda3/envs/4.preprocess_features_mitocheck/lib/python3.8/site-packages/pycytominer/cyto_utils/DeepProfiler_processing.py:383: UserWarning: No features could be found at ../3.extract_features/outputs/efn_pretrained/features/LT0013_42/107_39/1.npz.\n",
      "This program will continue, but be aware that this might induce errors!\n",
      "  warnings.warn(\n"
     ]
    }
   ],
   "source": [
    "index_file = pathlib.Path(\"../3.extract_features/inputs/metadata/index.csv\")\n",
    "profile_dir = pathlib.Path(\"../3.extract_features/outputs/efn_pretrained/features\")\n",
    "output_dir = pathlib.Path(\"data/\")\n",
    "\n",
    "deep_data = DeepProfiler_processing.DeepProfilerData(index_file, profile_dir, filename_delimiter=\"/\")\n",
    "deep_single_cell = DeepProfiler_processing.SingleCellDeepProfiler(deep_data)\n",
    "output_dir.mkdir(parents=True, exist_ok=True)\n",
    "normalized = deep_single_cell.normalize_deep_single_cells(\n",
    "    image_features=False, # profiles contain DeepProfiler features, not image features\n",
    "    samples=\"all\", # normalize all samples\n",
    "    method=\"standardize\", # use sklearn StandardScaler to standardize features\n",
    "    output_file=f\"{output_dir}/normalized_training_data.csv.gz\",\n",
    "    compression_options={\"method\": \"gzip\", \"mtime\": 1}\n",
    "    )"
   ]
  },
  {
   "cell_type": "code",
   "execution_count": 3,
   "metadata": {},
   "outputs": [
    {
     "name": "stdout",
     "output_type": "stream",
     "text": [
      "(4308, 1290)\n"
     ]
    }
   ],
   "source": [
    "print(normalized.shape)"
   ]
  },
  {
   "cell_type": "code",
   "execution_count": 4,
   "metadata": {},
   "outputs": [
    {
     "name": "stdout",
     "output_type": "stream",
     "text": [
      "   Location_Center_X  Location_Center_Y Metadata_Plate Metadata_Well  \\\n",
      "0         262.777778          20.126984      LT0043_48        166_48   \n",
      "1         239.517241          28.206897      LT0043_48        166_48   \n",
      "2         252.980392          35.862745      LT0043_48        166_48   \n",
      "3         258.288462          46.038462      LT0043_48        166_48   \n",
      "4        1212.640449          21.314607      LT0043_48        166_55   \n",
      "\n",
      "  Metadata_Site Metadata_Plate_Map_Name  \\\n",
      "0             1        LT0043_48_166_48   \n",
      "1             1        LT0043_48_166_48   \n",
      "2             1        LT0043_48_166_48   \n",
      "3             1        LT0043_48_166_48   \n",
      "4             1        LT0043_48_166_55   \n",
      "\n",
      "                            Metadata_DNA Metadata_Gene  \\\n",
      "0  LT0043_48/166/48/LT0043_48_166_48.tif          OGG1   \n",
      "1  LT0043_48/166/48/LT0043_48_166_48.tif          OGG1   \n",
      "2  LT0043_48/166/48/LT0043_48_166_48.tif          OGG1   \n",
      "3  LT0043_48/166/48/LT0043_48_166_48.tif          OGG1   \n",
      "4  LT0043_48/166/55/LT0043_48_166_55.tif          OGG1   \n",
      "\n",
      "  Metadata_Gene_Replicate Metadata_Model  ...  efficientnet_1270  \\\n",
      "0                       1   efficientnet  ...           0.207932   \n",
      "1                       1   efficientnet  ...           0.389720   \n",
      "2                       1   efficientnet  ...          -0.154282   \n",
      "3                       1   efficientnet  ...          -0.298543   \n",
      "4                       1   efficientnet  ...           1.764086   \n",
      "\n",
      "   efficientnet_1271  efficientnet_1272  efficientnet_1273  efficientnet_1274  \\\n",
      "0          -0.736547           0.010863           0.290715          -0.508518   \n",
      "1          -0.562691          -0.044208          -0.159093          -0.605761   \n",
      "2          -0.519065           0.584269           0.860831          -0.446671   \n",
      "3          -0.587031           0.838506           1.163170          -0.083327   \n",
      "4          -0.364659          -0.623983           0.087524          -0.678471   \n",
      "\n",
      "   efficientnet_1275  efficientnet_1276  efficientnet_1277  efficientnet_1278  \\\n",
      "0          -0.666912           0.527043          -0.216474           0.659347   \n",
      "1          -0.605434           0.376500          -0.496572           0.028506   \n",
      "2          -0.409693           0.383752          -0.343047          -0.370232   \n",
      "3          -0.206650           0.253444          -0.084782           0.073759   \n",
      "4          -1.047430           0.119700           0.254014           0.080685   \n",
      "\n",
      "   efficientnet_1279  \n",
      "0          -0.692728  \n",
      "1          -0.152331  \n",
      "2           0.267983  \n",
      "3          -0.251357  \n",
      "4          -0.808582  \n",
      "\n",
      "[5 rows x 1290 columns]\n"
     ]
    }
   ],
   "source": [
    "print(normalized.head())"
   ]
  }
 ],
 "metadata": {
  "kernelspec": {
   "display_name": "Python 3.8.13 ('4.preprocess_features_mitocheck')",
   "language": "python",
   "name": "python3"
  },
  "language_info": {
   "codemirror_mode": {
    "name": "ipython",
    "version": 3
   },
   "file_extension": ".py",
   "mimetype": "text/x-python",
   "name": "python",
   "nbconvert_exporter": "python",
   "pygments_lexer": "ipython3",
   "version": "3.8.13"
  },
  "orig_nbformat": 4,
  "vscode": {
   "interpreter": {
    "hash": "09cfcca99bd408a6ae135970bf3a84a69169270e8e76744c59dad62de7eddaa7"
   }
  }
 },
 "nbformat": 4,
 "nbformat_minor": 2
}
