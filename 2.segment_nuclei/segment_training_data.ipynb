{
 "cells": [
  {
   "cell_type": "markdown",
   "metadata": {},
   "source": [
    "### Import Libraries"
   ]
  },
  {
   "cell_type": "code",
   "execution_count": null,
   "metadata": {},
   "outputs": [],
   "source": [
    "# call logger_setup to have output of cellpose written\n",
    "from cellpose.io import logger_setup\n",
    "from cellpose import models, core, io, utils\n",
    "\n",
    "import pathlib\n",
    "import pandas as pd\n",
    "import fnmatch"
   ]
  },
  {
   "cell_type": "markdown",
   "metadata": {},
   "source": [
    "### Define Segmentation Functions"
   ]
  },
  {
   "cell_type": "code",
   "execution_count": null,
   "metadata": {},
   "outputs": [],
   "source": [
    "def get_frame_features_file(features_path, plate, well, frame):\n",
    "    movie_path = pathlib.Path(f\"{features_path}/{plate}/features/{well}/\")\n",
    "    frame_time = (int(frame)-1)*30\n",
    "    frame_time_string = f\"T{str(frame_time).zfill(5)}\"\n",
    "    \n",
    "    for frame_file in movie_path.iterdir():\n",
    "        if(frame_time_string in frame_file.name):\n",
    "            return frame_file\n",
    "\n",
    "def get_frame_labels(training_set_dat_path, plate, well, frame):\n",
    "    well_string = f\"W{str(well).zfill(5)}\"\n",
    "    frame_time = (int(frame)-1)*30\n",
    "    frame_time_string = f\"T{str(frame_time).zfill(5)}\"\n",
    "    frame_file_details = [plate, well_string, frame_time_string]\n",
    "    \n",
    "    frame_objects = []\n",
    "    with open(training_set_dat_path) as trainingset_file:\n",
    "        append = False\n",
    "        for line in trainingset_file:\n",
    "            if append and \".tif\" in line:\n",
    "                append = False\n",
    "            if append:\n",
    "                object_details = line.strip().split(\": \")\n",
    "                frame_objects.append(object_details)\n",
    "            #match plate, well, frame to file name\n",
    "            if all(detail in line for detail in frame_file_details):\n",
    "                print(line.strip()) #starting line for movie labels\n",
    "                append = True\n",
    "    return frame_objects\n",
    "\n",
    "def is_labeled(centroid, frame_features, frame_labels):\n",
    "    \"\"\"\n",
    "    returns true if nucleus is included in labeled training data, false if not\n",
    "    \"\"\"\n",
    "    objID = -1\n",
    "    labeled = False\n",
    "        \n",
    "    #determine if centroid is inside any of labeled bounding boxes\n",
    "    x = centroid[0]\n",
    "    y = centroid[1]\n",
    "    for labels in frame_labels:\n",
    "        labeled_feature = frame_features[frame_features[0] == int(labels[0])]\n",
    "        upperLeft_x = labeled_feature.iloc[0][1]\n",
    "        upperLeft_y = labeled_feature.iloc[0][2]\n",
    "        width = labeled_feature.iloc[0][3]\n",
    "        height = labeled_feature.iloc[0][4]\n",
    "        bottomRight_x = upperLeft_x + width\n",
    "        bottomRight_y = upperLeft_y + height\n",
    "        if upperLeft_x <= x and x <= bottomRight_x:\n",
    "            if y >= upperLeft_y and y <= bottomRight_y:\n",
    "                objID = labeled_feature.iloc[0][0]\n",
    "                labeled = True\n",
    "                \n",
    "        \n",
    "    return objID, labeled\n",
    "\n",
    "def get_nuclei_locations(load_path, features_path, training_set_dat_path, cellpose_model, plate, well, frame):\n",
    "    \"\"\"\n",
    "    returns nuclei location data in CellProfiler IdentifyPrimaryObjects format as pandas dataframe\n",
    "    ie: ImageNumber, ObjectNumber, Location_Center_X, Location_Center_Y, Location_Center_Z\n",
    "    \"\"\"\n",
    "    nuclei_data = []\n",
    "    \n",
    "    #use cellpose to get nuclei outlines\n",
    "    channels = [0,0]\n",
    "    frame_image = io.imread(load_path)\n",
    "    masks, flows, styles, diams = cellpose_model.eval(frame_image, diameter=0, channels=channels, flow_threshold=0.8)\n",
    "    outlines = utils.outlines_list(masks)\n",
    "    \n",
    "    frame_features_path = get_frame_features_file(features_path, plate, well, frame)\n",
    "    frame_features = pd.read_csv(frame_features_path, compression='gzip', header=None)\n",
    "    frame_labels = get_frame_labels(training_set_dat_path, plate, well, frame)\n",
    "    for outline in outlines:\n",
    "        centroid = outline.mean(axis=0)\n",
    "        \n",
    "        objId, cell_is_labeled = is_labeled(centroid, frame_features, frame_labels)\n",
    "        \n",
    "        if cell_is_labeled:\n",
    "            nucleus_data = {\n",
    "                        \"ImageNumber\": 1, \n",
    "                        \"ObjectNumber\": len(nuclei_data)+1,\n",
    "                        \"Location_Center_X\": centroid[0],\n",
    "                        \"Location_Center_Y\": centroid[1],\n",
    "                        \"Location_Center_Z\": 0,\n",
    "                        \"Mitocheck_Object_ID\": objId\n",
    "                        }\n",
    "            nuclei_data.append(nucleus_data)\n",
    "        \n",
    "    nuclei_data = pd.DataFrame(nuclei_data)\n",
    "    return nuclei_data\n",
    "\n",
    "def segment_training_data(preproc_training_path, features_path, training_set_dat_path, save_path, cellpose_model):\n",
    "    \"\"\"\n",
    "    saves nuclei location data in CellProfiler IdentifyPrimaryObjects format as csv file\n",
    "    ie: ImageNumber, ObjectNumber, Location_Center_X, Location_Center_Y, Location_Center_Z\n",
    "    \"\"\"\n",
    "    for plate_path in preproc_training_path.iterdir():\n",
    "        for well_path in plate_path.iterdir():\n",
    "            for frame_path in well_path.iterdir():\n",
    "                for file_path in frame_path.iterdir():\n",
    "                    segmented_save_dir = pathlib.Path(f\"{save_path}/{plate_path.name}/{well_path.name}/{frame_path.name}\")\n",
    "                    print(f\"Segmenting: {file_path}\")\n",
    "                    if segmented_save_dir.exists():\n",
    "                        print(\"Movie has already been segmented!\")\n",
    "                    else:\n",
    "                        nuclei_data = get_nuclei_locations(file_path, features_path, training_set_dat_path, cellpose_model, plate_path.name, well_path.name, frame_path.name)\n",
    "                        segmented_save_dir.mkdir(parents=True, exist_ok=False)\n",
    "                        nuclei_data_path = pathlib.Path(f\"{segmented_save_dir}/{plate_path.name}_{well_path.name}_{frame_path.name}.tsv\")\n",
    "                        nuclei_data.to_csv(nuclei_data_path, sep='\\t')\n"
   ]
  },
  {
   "cell_type": "markdown",
   "metadata": {},
   "source": [
    "### Set Up CellPose"
   ]
  },
  {
   "cell_type": "code",
   "execution_count": null,
   "metadata": {},
   "outputs": [],
   "source": [
    "use_GPU = core.use_gpu()\n",
    "print('>>> GPU activated? %d'%use_GPU)\n",
    "logger_setup();"
   ]
  },
  {
   "cell_type": "markdown",
   "metadata": {},
   "source": [
    "### Segment All Training Data"
   ]
  },
  {
   "cell_type": "code",
   "execution_count": null,
   "metadata": {},
   "outputs": [],
   "source": [
    "load_path = pathlib.Path(\"../1.preprocess_data/labeled_frames_preprocessed/\")\n",
    "features_path = pathlib.Path(\"features/\")\n",
    "training_set_dat_path = pathlib.Path(\"../0.download_data/trainingset.dat\")\n",
    "save_path = pathlib.Path(\"segmented/\")\n",
    "cellpose_model = models.Cellpose(gpu=True, model_type='cyto')\n",
    "segment_training_data(load_path, features_path, training_set_dat_path, save_path, cellpose_model)"
   ]
  }
 ],
 "metadata": {
  "kernelspec": {
   "display_name": "Python 3.8.13 ('mitocheck_data2')",
   "language": "python",
   "name": "python3"
  },
  "language_info": {
   "codemirror_mode": {
    "name": "ipython",
    "version": 3
   },
   "file_extension": ".py",
   "mimetype": "text/x-python",
   "name": "python",
   "nbconvert_exporter": "python",
   "pygments_lexer": "ipython3",
   "version": "3.8.13"
  },
  "orig_nbformat": 4,
  "vscode": {
   "interpreter": {
    "hash": "e0971d304d530f8782ddf884fa144d2d323dae9a36a62ac6f739c483391c02eb"
   }
  }
 },
 "nbformat": 4,
 "nbformat_minor": 2
}
