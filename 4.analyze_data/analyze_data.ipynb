{
 "cells": [
  {
   "cell_type": "markdown",
   "metadata": {},
   "source": [
    "### Import libraries\n"
   ]
  },
  {
   "cell_type": "code",
   "execution_count": null,
   "metadata": {},
   "outputs": [],
   "source": [
    "import pathlib\n",
    "import pandas as pd\n",
    "import seaborn as sns\n",
    "from matplotlib.colors import rgb2hex\n",
    "\n",
    "import sys\n",
    "\n",
    "sys.path.append(\"../utils\")\n",
    "from load_utils import split_data\n",
    "from analysis_utils import get_class_colors, show_1D_umap, show_2D_umap"
   ]
  },
  {
   "cell_type": "markdown",
   "metadata": {},
   "source": [
    "### Set training data load path, dataset types, save directory"
   ]
  },
  {
   "cell_type": "code",
   "execution_count": null,
   "metadata": {},
   "outputs": [],
   "source": [
    "# training data load path\n",
    "training_data_dir = pathlib.Path(\n",
    "    \"../3.normalize_data/normalized_data/\"\n",
    ")\n",
    "\n",
    "# dataset types\n",
    "dataset_types = [\"ic\", \"no_ic\"]\n",
    "\n",
    "# feature types to create umaps for\n",
    "feature_types = [\"CP\", \"DP\", \"CP_and_DP\"]\n",
    "\n",
    "# results directory\n",
    "results_dir = pathlib.Path(\"results/\")\n",
    "results_dir.mkdir(parents=True, exist_ok=True)"
   ]
  },
  {
   "cell_type": "markdown",
   "metadata": {},
   "source": [
    "### Set UMAP display settings and class colors\n"
   ]
  },
  {
   "cell_type": "code",
   "execution_count": null,
   "metadata": {},
   "outputs": [],
   "source": [
    "point_size = 25\n",
    "alpha = 0.6\n",
    "color_palette = \"bright\"\n",
    "\n",
    "classes_1 = [\n",
    "    \"Large\",\n",
    "    \"Prometaphase\",\n",
    "    \"Grape\",\n",
    "    \"Interphase\",\n",
    "    \"Apoptosis\",\n",
    "    \"ADCCM\",\n",
    "    \"Folded\",\n",
    "    \"SmallIrregular\",\n",
    "    \"Polylobed\",\n",
    "    \"Metaphase\",\n",
    "    \"Binuclear\",\n",
    "    \"Hole\",\n",
    "    \"Anaphase\",\n",
    "    \"MetaphaseAlignment\",\n",
    "    \"Elongated\",\n",
    "    \"OutOfFocus\",\n",
    "]\n",
    "\n",
    "# classes that aren't commented out will get a color for their particular class\n",
    "# those that are commented out will be colored gray and labeled \"other\"\n",
    "classes_2 = [\n",
    "    # \"Large\",\n",
    "    \"Prometaphase\",\n",
    "    \"Grape\",\n",
    "    \"Interphase\",\n",
    "    \"Apoptosis\",\n",
    "    \"ADCCM\",\n",
    "    # \"Folded\",\n",
    "    # \"SmallIrregular\",\n",
    "    # \"Polylobed\",\n",
    "    # \"Metaphase\",\n",
    "    # \"Binuclear\",\n",
    "    # \"Hole\",\n",
    "    # \"Anaphase\",\n",
    "    # \"MetaphaseAlignment\",\n",
    "    # \"Elongated\",\n",
    "    # \"OutOfFocus\",\n",
    "]\n",
    "\n",
    "class_colors_1 = get_class_colors(classes_1, \"rainbow\")\n",
    "class_colors_2 = get_class_colors(classes_2, \"bright\")"
   ]
  },
  {
   "cell_type": "code",
   "execution_count": null,
   "metadata": {},
   "outputs": [],
   "source": [
    "for dataset_type in dataset_types:\n",
    "    # load training data\n",
    "    training_data_path = pathlib.Path(\n",
    "        f\"{training_data_dir}/training_data__{dataset_type}.csv.gz\"\n",
    "    )\n",
    "    training_data = pd.read_csv(training_data_path, compression=\"gzip\", index_col=0)\n",
    "    \n",
    "    # save single-cell counts per phenotype\n",
    "    # get single-cell class counts\n",
    "    single_cell_class_counts = (\n",
    "        training_data[\"Mitocheck_Phenotypic_Class\"]\n",
    "        .value_counts()\n",
    "        .rename_axis(\"Mitocheck_Phenotypic_Class\")\n",
    "        .reset_index(name=\"Single_Cell_Counts\")\n",
    "    )\n",
    "    # save single-cell class counts\n",
    "    single_cell_class_counts_save_path = pathlib.Path(\n",
    "        f\"{results_dir}/single_cell_class_counts.csv\"\n",
    "    )\n",
    "    single_cell_class_counts.to_csv(single_cell_class_counts_save_path)\n",
    "    \n",
    "    # create umaps\n",
    "    # list to compile embeddings tidy data\n",
    "    compiled_tidy_embeddings = []\n",
    "\n",
    "    # create 1D and 2D umaps for each feature type\n",
    "    for feature_type in feature_types:\n",
    "    print(f\"Showing UMAPs created with {feature_type} features\")\n",
    "\n",
    "    # the trainind data dataframe is split into two components:\n",
    "    # metadata: info about the cell including its labeled phenotypic class, location, perturbation, etc\n",
    "    # feature data: the CP, DP, or merged features for each cell\n",
    "    metadata_dataframe, feature_data = split_data(training_data, feature_type)\n",
    "    phenotypic_classes = metadata_dataframe[\"Mitocheck_Phenotypic_Class\"]\n",
    "\n",
    "    # show 2D umaps\n",
    "    # class colors 1 - all classes included\n",
    "    embeddings_2D = show_2D_umap(\n",
    "        feature_data,\n",
    "        phenotypic_classes,\n",
    "        class_colors_1,\n",
    "        point_size=point_size,\n",
    "        alpha=alpha,\n",
    "    )\n",
    "\n",
    "    # add feature types column for tidy long data\n",
    "    embeddings_2D[\"Feature_Type\"] = feature_type\n",
    "    # add cell UUID types column for tidy long data\n",
    "    embeddings_2D[\"Cell_UUID\"] = metadata_dataframe[\"Cell_UUID\"]\n",
    "    # melt embeddings data into tidy format\n",
    "    embeddings_2D = pd.melt(\n",
    "        embeddings_2D,\n",
    "        id_vars=[\"Mitocheck_Phenotypic_Class\", \"Feature_Type\", \"Cell_UUID\"],\n",
    "        value_vars=[\"UMAP1\", \"UMAP2\"],\n",
    "        var_name=\"UMAP_Embedding\",\n",
    "        value_name=\"Embedding_Value\",\n",
    "    )\n",
    "\n",
    "    # add these tidy embeddings to compilation\n",
    "    compiled_tidy_embeddings.append(embeddings_2D)"
   ]
  },
  {
   "cell_type": "markdown",
   "metadata": {},
   "source": [
    "### Create UMAPs\n"
   ]
  },
  {
   "cell_type": "code",
   "execution_count": null,
   "metadata": {},
   "outputs": [],
   "source": [
    "# list to compile embeddings tidy data\n",
    "compiled_tidy_embeddings = []\n",
    "\n",
    "# create 1D and 2D umaps for each feature type\n",
    "for feature_type in feature_types:\n",
    "    print(f\"Showing UMAPs created with {feature_type} features\")\n",
    "\n",
    "    # the trainind data dataframe is split into two components:\n",
    "    # metadata: info about the cell including its labeled phenotypic class, location, perturbation, etc\n",
    "    # feature data: the CP, DP, or merged features for each cell\n",
    "    metadata_dataframe, feature_data = split_data(training_data, feature_type)\n",
    "    phenotypic_classes = metadata_dataframe[\"Mitocheck_Phenotypic_Class\"]\n",
    "\n",
    "    # show 2D umaps\n",
    "    # class colors 1 - all classes included\n",
    "    embeddings_2D = show_2D_umap(\n",
    "        feature_data,\n",
    "        phenotypic_classes,\n",
    "        class_colors_1,\n",
    "        point_size=point_size,\n",
    "        alpha=alpha,\n",
    "    )\n",
    "\n",
    "    # add feature types column for tidy long data\n",
    "    embeddings_2D[\"Feature_Type\"] = feature_type\n",
    "    # add cell UUID types column for tidy long data\n",
    "    embeddings_2D[\"Cell_UUID\"] = metadata_dataframe[\"Cell_UUID\"]\n",
    "    # melt embeddings data into tidy format\n",
    "    embeddings_2D = pd.melt(\n",
    "        embeddings_2D,\n",
    "        id_vars=[\"Mitocheck_Phenotypic_Class\", \"Feature_Type\", \"Cell_UUID\"],\n",
    "        value_vars=[\"UMAP1\", \"UMAP2\"],\n",
    "        var_name=\"UMAP_Embedding\",\n",
    "        value_name=\"Embedding_Value\",\n",
    "    )\n",
    "\n",
    "    # add these tidy embeddings to compilation\n",
    "    compiled_tidy_embeddings.append(embeddings_2D)"
   ]
  },
  {
   "cell_type": "markdown",
   "metadata": {},
   "source": [
    "### Save and preview tidy embedding data\n"
   ]
  },
  {
   "cell_type": "code",
   "execution_count": null,
   "metadata": {},
   "outputs": [],
   "source": [
    "# compile tidy embeddings into one dataframe\n",
    "compiled_tidy_embeddings = pd.concat(compiled_tidy_embeddings).reset_index(drop=True)\n",
    "\n",
    "# save tidy embeddings\n",
    "compiled_tidy_embeddings_save_path = pathlib.Path(\n",
    "    f\"{results_dir}/compiled_2D_umap_embeddings.csv\"\n",
    ")\n",
    "compiled_tidy_embeddings.to_csv(compiled_tidy_embeddings_save_path)\n",
    "\n",
    "# preview tidy embeddings data\n",
    "compiled_tidy_embeddings"
   ]
  }
 ],
 "metadata": {
  "kernelspec": {
   "display_name": "Python 3.8.13 ('mitocheck_data')",
   "language": "python",
   "name": "python3"
  },
  "language_info": {
   "codemirror_mode": {
    "name": "ipython",
    "version": 3
   },
   "file_extension": ".py",
   "mimetype": "text/x-python",
   "name": "python",
   "nbconvert_exporter": "python",
   "pygments_lexer": "ipython3",
   "version": "3.8.13"
  },
  "orig_nbformat": 4,
  "vscode": {
   "interpreter": {
    "hash": "6a8a2a08f220f21995bf3ea89450d54896262b1bf39109bbe0ac9ff6cde8a3ed"
   }
  }
 },
 "nbformat": 4,
 "nbformat_minor": 2
}
