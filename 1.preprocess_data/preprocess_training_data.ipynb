{
 "cells": [
  {
   "cell_type": "markdown",
   "metadata": {},
   "source": [
    "# Training Movie Preprocessor\n",
    "### Preprocesses Training Movies from Aspera IDR downloader\n",
    "\n",
    "#### Import libraries"
   ]
  },
  {
   "cell_type": "code",
   "execution_count": 1,
   "metadata": {},
   "outputs": [],
   "source": [
    "import imagej\n",
    "import pandas as pd\n",
    "import pathlib\n",
    "from IPython.utils.io import capture_output\n",
    "import os"
   ]
  },
  {
   "cell_type": "markdown",
   "metadata": {},
   "source": [
    "### Determine what frames are labled from each training movie"
   ]
  },
  {
   "cell_type": "code",
   "execution_count": 2,
   "metadata": {},
   "outputs": [],
   "source": [
    "#Read plates listed in features dataset to figure out which frames from each movie have training data\n",
    "#Save these training locations into training_frames file\n",
    "\n",
    "def save_training_wells(traingset_path, save_path):\n",
    "    data_list = []\n",
    "    with open(traingset_path) as labels_file:\n",
    "        for line in labels_file:\n",
    "            if \".tif\" in line: #get plate/well/frame for training data\n",
    "                plate = line.strip()[:9]\n",
    "                well = line.strip()[14:17]\n",
    "                time = line.strip()[29:33]\n",
    "                frame = int(int(time)/30 + 1)\n",
    "                data_list.append([plate, well, frame])\n",
    "                    \n",
    "    dataframe = pd.DataFrame(data_list, columns=['Plate', 'Well', 'Frame'])\n",
    "    dataframe.to_csv(save_path, sep=\"\\t\")\n",
    "\n",
    "features_path = \"../0.download_data/trainingset.dat\"\n",
    "save_path = \"training_frames.tsv\"\n",
    "save_training_wells(features_path, save_path)"
   ]
  },
  {
   "cell_type": "markdown",
   "metadata": {},
   "source": [
    "### Load image data given plate, well, frame"
   ]
  },
  {
   "cell_type": "code",
   "execution_count": 3,
   "metadata": {},
   "outputs": [
    {
     "name": "stdout",
     "output_type": "stream",
     "text": [
      "[INFO] Overriding Leica ROI Reader; identifier: command:de.biovoxxel.utilities.RoiReader; jar: file:/home/roshankern/Desktop/Github/mitocheck_data/1.preprocess_data/Fiji.app/plugins/Biovoxxel_Plugins-2.5.6.jar\n",
      "CellH5Reader initializing /home/roshankern/Desktop/Github/mitocheck_data/0.download_data/labeled_movies_ch5/LT0013_38/042/00042_01.ch5\n",
      "Plate :/sample/0/plate/\n",
      "Well :/sample/0/plate/LT0013_38--ex2005_05_06--sp2005_04_11--tt163--c3/experiment/\n",
      "Site :/sample/0/plate/LT0013_38--ex2005_05_06--sp2005_04_11--tt163--c3/experiment/00042/position/\n",
      "Parse segmentation ROIs for cell object primary__test : 0\n",
      "(94, 1024, 1344)\n"
     ]
    }
   ],
   "source": [
    "#return movie data for particular plate/well\n",
    "def load_movie_data(imagej, parent_dir, plate, well):\n",
    "    #create absolute path for ImageJ to load CH5 from\n",
    "    parent_path = pathlib.Path(parent_dir).absolute().resolve()\n",
    "    movie_file_path = f\"{plate}/{well}/00{well}_01.ch5\"\n",
    "    movie_path = parent_path.joinpath(movie_file_path)\n",
    "    \n",
    "    #imagej prints lots of output that isnt necessary, unfortunately some will still come through\n",
    "    with capture_output():\n",
    "        movie_path = str(movie_path)\n",
    "        jmovie = ij.io().open(movie_path)\n",
    "        movie = ij.py.from_java(jmovie)\n",
    "        movie_arr = movie.values[-94:, :, :, 0]\n",
    "        return movie_arr\n",
    "    \n",
    "ij = imagej.init('Fiji.app')\n",
    "#imagej init sets directory to /Fiji.app so have to go back a directory :/\n",
    "os.chdir(\"..\")\n",
    "parent_dir = \"../0.download_data/labeled_movies_ch5/\"\n",
    "plate = \"LT0013_38\"\n",
    "well = \"042\"\n",
    "frame = 3\n",
    "\n",
    "test = load_movie_data(ij, parent_dir, plate, well)\n",
    "print(test.shape)"
   ]
  },
  {
   "cell_type": "code",
   "execution_count": null,
   "metadata": {},
   "outputs": [],
   "source": []
  },
  {
   "cell_type": "markdown",
   "metadata": {},
   "source": [
    "### Get all labeled frames from raw movies and save"
   ]
  }
 ],
 "metadata": {
  "kernelspec": {
   "display_name": "Python 3.10.4 ('imagej_converter')",
   "language": "python",
   "name": "python3"
  },
  "language_info": {
   "codemirror_mode": {
    "name": "ipython",
    "version": 3
   },
   "file_extension": ".py",
   "mimetype": "text/x-python",
   "name": "python",
   "nbconvert_exporter": "python",
   "pygments_lexer": "ipython3",
   "version": "3.10.4"
  },
  "orig_nbformat": 4,
  "vscode": {
   "interpreter": {
    "hash": "66abdc3c03dcf0722b0c0b28d5de821f53c9422cd7bea8677d4d119fdea6a0a9"
   }
  }
 },
 "nbformat": 4,
 "nbformat_minor": 2
}
