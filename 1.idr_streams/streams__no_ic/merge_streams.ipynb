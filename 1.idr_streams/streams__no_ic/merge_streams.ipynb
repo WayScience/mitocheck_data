{
 "cells": [
  {
   "cell_type": "code",
   "execution_count": 1,
   "metadata": {},
   "outputs": [],
   "source": [
    "import pandas as pd\n",
    "import pathlib\n",
    "\n",
    "import sys\n",
    "\n",
    "sys.path.append(\"../IDR_stream/\")\n",
    "from idrstream.merge_CP_DP import save_merged_CP_DP_run"
   ]
  },
  {
   "cell_type": "code",
   "execution_count": null,
   "metadata": {},
   "outputs": [],
   "source": [
    "cp_missing = []\n",
    "dp_missing = []\n",
    "different_batches = []\n",
    "\n",
    "current_data = \"positive_control_data\"\n",
    "\n",
    "# path to directory with IDR_stream run outputs (training_data, negative_control_data, positive_control_data)\n",
    "extracted_features_dir = pathlib.Path(f\"../extracted_features__no_ic/{current_data}\")\n",
    "\n",
    "cp_data_dir_path = pathlib.Path(f\"{extracted_features_dir}/CP_features/\")\n",
    "dp_data_dir_path = pathlib.Path(f\"{extracted_features_dir}/DP_features/\")\n",
    "\n",
    "\n",
    "num_batches = 289\n",
    "for i in range(num_batches):\n",
    "    \n",
    "    print(f\"Batch {i}\")\n",
    "    cp_file = cp_data_dir_path / f\"batch_{i}.csv.gz\"\n",
    "    dp_file = dp_data_dir_path / f\"batch_{i}.csv.gz\"\n",
    "    \n",
    "    if not cp_file.exists():\n",
    "        cp_missing.append(i)\n",
    "        continue\n",
    "    if not dp_file.exists():\n",
    "        dp_missing.append(i)\n",
    "        continue\n",
    "    \n",
    "    cp_data = pd.read_csv(cp_file, compression='gzip')\n",
    "    dp_data = pd.read_csv(dp_file, compression='gzip')\n",
    "    \n",
    "    if len(cp_data) != len(dp_data):\n",
    "        different_batches.append(i)\n",
    "    \n",
    "    \n",
    "\n",
    "print(f\"Missing CP batches: {cp_missing}\")\n",
    "print(f\"Missing DP batches: {dp_missing}\")\n",
    "print(f\"Different batches: {different_batches}\")"
   ]
  },
  {
   "cell_type": "code",
   "execution_count": 2,
   "metadata": {},
   "outputs": [
    {
     "name": "stdout",
     "output_type": "stream",
     "text": [
      "Merging streams for negative_control_data\n"
     ]
    }
   ],
   "source": [
    "# path to directory with IDR_stream run outputs (training_data, negative_control_data, positive_control_data)\n",
    "extracted_features = pathlib.Path(\"../extracted_features__no_ic/\")\n",
    "\n",
    "for extracted_features_dir in sorted(extracted_features.iterdir()):\n",
    "    if \"negative\" not in extracted_features_dir.name:\n",
    "        continue\n",
    "    \n",
    "    print(f\"Merging streams for {extracted_features_dir.name}\")\n",
    "\n",
    "    # specify paths to CP, DP and merged data\n",
    "    cp_data_dir_path = pathlib.Path(f\"{extracted_features_dir}/CP_features/\")\n",
    "    dp_data_dir_path = pathlib.Path(f\"{extracted_features_dir}/DP_features/\")\n",
    "    merged_data_dir_path = pathlib.Path(f\"{extracted_features_dir}/merged_features/\")\n",
    "\n",
    "    # merge CP and DP runs!\n",
    "    save_merged_CP_DP_run(cp_data_dir_path, dp_data_dir_path, merged_data_dir_path)"
   ]
  }
 ],
 "metadata": {
  "kernelspec": {
   "display_name": "Python 3.8.13 ('idrstream_cp')",
   "language": "python",
   "name": "python3"
  },
  "language_info": {
   "codemirror_mode": {
    "name": "ipython",
    "version": 3
   },
   "file_extension": ".py",
   "mimetype": "text/x-python",
   "name": "python",
   "nbconvert_exporter": "python",
   "pygments_lexer": "ipython3",
   "version": "3.8.13"
  },
  "orig_nbformat": 4,
  "vscode": {
   "interpreter": {
    "hash": "00511e853dd305362128087115a302b393aa6752b90db0accb1b4a560f5b1520"
   }
  }
 },
 "nbformat": 4,
 "nbformat_minor": 2
}
