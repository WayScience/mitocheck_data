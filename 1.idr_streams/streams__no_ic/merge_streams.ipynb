{
 "cells": [
  {
   "cell_type": "code",
   "execution_count": 2,
   "metadata": {},
   "outputs": [],
   "source": [
    "import pandas as pd\n",
    "import pathlib\n",
    "\n",
    "import sys\n",
    "\n",
    "sys.path.append(\"../IDR_stream/\")\n",
    "from idrstream.merge_CP_DP import save_merged_CP_DP_run"
   ]
  },
  {
   "cell_type": "code",
   "execution_count": 5,
   "metadata": {},
   "outputs": [
    {
     "name": "stdout",
     "output_type": "stream",
     "text": [
      "Batches with different numbers of cells: [19]\n"
     ]
    }
   ],
   "source": [
    "different_cell_num_batches = []\n",
    "\n",
    "current_data = \"training_data\"\n",
    "\n",
    "# path to directory with IDR_stream run outputs (training_data, negative_control_data, positive_control_data)\n",
    "extracted_features_dir = pathlib.Path(f\"../extracted_features__no_ic/{current_data}\")\n",
    "\n",
    "cp_data_dir_path = pathlib.Path(f\"{extracted_features_dir}/CP_features/\")\n",
    "dp_data_dir_path = pathlib.Path(f\"{extracted_features_dir}/DP_features/\")\n",
    "\n",
    "# Iterate through the files in cp_data_dir_path\n",
    "for cp_file in cp_data_dir_path.glob('*.csv.gz'):\n",
    "    # Corresponding file in dp_data_dir_path\n",
    "    dp_file = dp_data_dir_path / cp_file.name\n",
    "\n",
    "    # Read the CSV files\n",
    "    cp_data = pd.read_csv(cp_file, compression='gzip')\n",
    "    dp_data = pd.read_csv(dp_file, compression='gzip')\n",
    "\n",
    "    # Compare the number of rows (cells) in each file\n",
    "    if len(cp_data) != len(dp_data):\n",
    "        batch_num = cp_file.name.split(\"_\")[1].split(\".\")[0]\n",
    "        batch_num = int(batch_num)\n",
    "        different_cell_num_batches.append(batch_num)\n",
    "\n",
    "print(f\"Batches with different numbers of cells: {different_cell_num_batches}\")"
   ]
  },
  {
   "cell_type": "code",
   "execution_count": 2,
   "metadata": {},
   "outputs": [
    {
     "name": "stdout",
     "output_type": "stream",
     "text": [
      "Merging streams for training_data\n"
     ]
    },
    {
     "ename": "IndexError",
     "evalue": "Batch data have different number of rows (cells)!",
     "output_type": "error",
     "traceback": [
      "\u001b[0;31m---------------------------------------------------------------------------\u001b[0m",
      "\u001b[0;31mIndexError\u001b[0m                                Traceback (most recent call last)",
      "\u001b[1;32m/home/roshankern/Desktop/Github/mitocheck_data/1.idr_streams/streams__no_ic/merge_streams.ipynb Cell 2\u001b[0m line \u001b[0;36m1\n\u001b[1;32m     <a href='vscode-notebook-cell:/home/roshankern/Desktop/Github/mitocheck_data/1.idr_streams/streams__no_ic/merge_streams.ipynb#W1sZmlsZQ%3D%3D?line=9'>10</a>\u001b[0m merged_data_dir_path \u001b[39m=\u001b[39m pathlib\u001b[39m.\u001b[39mPath(\u001b[39mf\u001b[39m\u001b[39m\"\u001b[39m\u001b[39m{\u001b[39;00mextracted_features_dir\u001b[39m}\u001b[39;00m\u001b[39m/merged_features/\u001b[39m\u001b[39m\"\u001b[39m)\n\u001b[1;32m     <a href='vscode-notebook-cell:/home/roshankern/Desktop/Github/mitocheck_data/1.idr_streams/streams__no_ic/merge_streams.ipynb#W1sZmlsZQ%3D%3D?line=11'>12</a>\u001b[0m \u001b[39m# merge CP and DP runs!\u001b[39;00m\n\u001b[0;32m---> <a href='vscode-notebook-cell:/home/roshankern/Desktop/Github/mitocheck_data/1.idr_streams/streams__no_ic/merge_streams.ipynb#W1sZmlsZQ%3D%3D?line=12'>13</a>\u001b[0m save_merged_CP_DP_run(cp_data_dir_path, dp_data_dir_path, merged_data_dir_path)\n",
      "File \u001b[0;32m~/Desktop/Github/mitocheck_data/1.idr_streams/streams__no_ic/../IDR_stream/idrstream/merge_CP_DP.py:197\u001b[0m, in \u001b[0;36msave_merged_CP_DP_run\u001b[0;34m(cp_data_dir_path, dp_data_dir_path, merged_data_dir_path)\u001b[0m\n\u001b[1;32m    190\u001b[0m dp_batch_data \u001b[39m=\u001b[39m pd\u001b[39m.\u001b[39mread_csv(\n\u001b[1;32m    191\u001b[0m     dp_batch_data_path,\n\u001b[1;32m    192\u001b[0m     compression\u001b[39m=\u001b[39m\u001b[39m\"\u001b[39m\u001b[39mgzip\u001b[39m\u001b[39m\"\u001b[39m,\n\u001b[1;32m    193\u001b[0m     index_col\u001b[39m=\u001b[39m\u001b[39m0\u001b[39m,\n\u001b[1;32m    194\u001b[0m )\n\u001b[1;32m    196\u001b[0m \u001b[39m# get merged batch data\u001b[39;00m\n\u001b[0;32m--> 197\u001b[0m merged_batch_data \u001b[39m=\u001b[39m merge_CP_DP_batch_data(cp_batch_data, dp_batch_data)\n\u001b[1;32m    199\u001b[0m \u001b[39m# save merged batch data\u001b[39;00m\n\u001b[1;32m    200\u001b[0m merged_batch_data_path \u001b[39m=\u001b[39m pathlib\u001b[39m.\u001b[39mPath(\n\u001b[1;32m    201\u001b[0m     \u001b[39mf\u001b[39m\u001b[39m\"\u001b[39m\u001b[39m{\u001b[39;00mmerged_data_dir_path\u001b[39m}\u001b[39;00m\u001b[39m/\u001b[39m\u001b[39m{\u001b[39;00mcp_batch_data_path\u001b[39m.\u001b[39mname\u001b[39m}\u001b[39;00m\u001b[39m\"\u001b[39m\n\u001b[1;32m    202\u001b[0m )\n",
      "File \u001b[0;32m~/Desktop/Github/mitocheck_data/1.idr_streams/streams__no_ic/../IDR_stream/idrstream/merge_CP_DP.py:74\u001b[0m, in \u001b[0;36mmerge_CP_DP_batch_data\u001b[0;34m(cp_batch_data, dp_batch_data, add_cell_uuid)\u001b[0m\n\u001b[1;32m     71\u001b[0m \u001b[39m# check batch data have same number of rows (cells)\u001b[39;00m\n\u001b[1;32m     72\u001b[0m \u001b[39m# if batch data have different number of cells, raise an error because they must not have close segmentations\u001b[39;00m\n\u001b[1;32m     73\u001b[0m \u001b[39mif\u001b[39;00m cp_batch_data\u001b[39m.\u001b[39mshape[\u001b[39m0\u001b[39m] \u001b[39m!=\u001b[39m dp_batch_data\u001b[39m.\u001b[39mshape[\u001b[39m0\u001b[39m]:\n\u001b[0;32m---> 74\u001b[0m     \u001b[39mraise\u001b[39;00m \u001b[39mIndexError\u001b[39;00m(\u001b[39m\"\u001b[39m\u001b[39mBatch data have different number of rows (cells)!\u001b[39m\u001b[39m\"\u001b[39m)\n\u001b[1;32m     76\u001b[0m \u001b[39m# hide warning for pandas chained assignment\u001b[39;00m\n\u001b[1;32m     77\u001b[0m \u001b[39m# this hides the warnings produced by main necessary chained assingments with pandas (can't use .iloc[] for some operations)\u001b[39;00m\n\u001b[1;32m     78\u001b[0m pd\u001b[39m.\u001b[39moptions\u001b[39m.\u001b[39mmode\u001b[39m.\u001b[39mchained_assignment \u001b[39m=\u001b[39m \u001b[39mNone\u001b[39;00m\n",
      "\u001b[0;31mIndexError\u001b[0m: Batch data have different number of rows (cells)!"
     ]
    }
   ],
   "source": [
    "# path to directory with IDR_stream run outputs (training_data, negative_control_data, positive_control_data)\n",
    "extracted_features = pathlib.Path(\"../extracted_features__no_ic/\")\n",
    "\n",
    "for extracted_features_dir in sorted(extracted_features.iterdir()):\n",
    "    print(f\"Merging streams for {extracted_features_dir.name}\")\n",
    "\n",
    "    # specify paths to CP, DP and merged data\n",
    "    cp_data_dir_path = pathlib.Path(f\"{extracted_features_dir}/CP_features/\")\n",
    "    dp_data_dir_path = pathlib.Path(f\"{extracted_features_dir}/DP_features/\")\n",
    "    merged_data_dir_path = pathlib.Path(f\"{extracted_features_dir}/merged_features/\")\n",
    "\n",
    "    # merge CP and DP runs!\n",
    "    save_merged_CP_DP_run(cp_data_dir_path, dp_data_dir_path, merged_data_dir_path)"
   ]
  }
 ],
 "metadata": {
  "kernelspec": {
   "display_name": "Python 3.8.13 ('idrstream_cp')",
   "language": "python",
   "name": "python3"
  },
  "language_info": {
   "codemirror_mode": {
    "name": "ipython",
    "version": 3
   },
   "file_extension": ".py",
   "mimetype": "text/x-python",
   "name": "python",
   "nbconvert_exporter": "python",
   "pygments_lexer": "ipython3",
   "version": "3.8.13"
  },
  "orig_nbformat": 4,
  "vscode": {
   "interpreter": {
    "hash": "00511e853dd305362128087115a302b393aa6752b90db0accb1b4a560f5b1520"
   }
  }
 },
 "nbformat": 4,
 "nbformat_minor": 2
}
