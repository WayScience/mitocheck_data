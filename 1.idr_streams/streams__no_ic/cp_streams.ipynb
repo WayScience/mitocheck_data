{
 "cells": [
  {
   "cell_type": "markdown",
   "metadata": {},
   "source": [
    "# Example of CellProfiler project for idrstream"
   ]
  },
  {
   "cell_type": "markdown",
   "metadata": {},
   "source": [
    "## Import Libraries"
   ]
  },
  {
   "cell_type": "code",
   "execution_count": null,
   "metadata": {},
   "outputs": [],
   "source": [
    "import pathlib\n",
    "import pandas as pd\n",
    "import shutil\n",
    "\n",
    "import sys\n",
    "\n",
    "sys.path.append(\"../IDR_stream/\")\n",
    "from idrstream.CP_idr import CellProfilerRun"
   ]
  },
  {
   "cell_type": "markdown",
   "metadata": {},
   "source": [
    "## Initialize idrstream"
   ]
  },
  {
   "cell_type": "code",
   "execution_count": null,
   "metadata": {},
   "outputs": [],
   "source": [
    "# directory with all locations data csvs (with plate/well/frame image location data for IDR_stream)\n",
    "locations_dir = pathlib.Path(\"../../0.locate_data/locations/\")\n",
    "\n",
    "# path to directory with runcellpose.py file\n",
    "plugins_directory = pathlib.Path(\"../IDR_stream/idrstream/CP_Plugins\")\n",
    "# path to CellProfiler pipeline file\n",
    "pipeline_path = pathlib.Path(\"../stream_files/CP_files/mitocheck_idr_cp.cppipe\")\n",
    "# idr ID for MitoCheck data\n",
    "idr_id = \"idr0013\"\n",
    "\n",
    "# path to users home dir\n",
    "home_dir_path = pathlib.Path.home()\n",
    "\n",
    "# set downloader paths\n",
    "aspera_path = pathlib.Path(f\"{home_dir_path}/.aspera/ascli/sdk/ascp\")\n",
    "aspera_key_path = pathlib.Path(\"../stream_files/asperaweb_id_dsa.openssh\")\n",
    "screens_path = pathlib.Path(\"../stream_files/idr0013-screenA-plates.tsv\")\n",
    "idr_index_name = \"idr0013-neumann-mitocheck\"\n",
    "\n",
    "# set fiji path\n",
    "fiji_path = pathlib.Path(f\"{home_dir_path}/Desktop/Fiji.app\")\n",
    "# specify no illumination correction\n",
    "perform_illumination_correction = False"
   ]
  },
  {
   "cell_type": "code",
   "execution_count": null,
   "metadata": {},
   "outputs": [],
   "source": [
    "for data_locations_path in sorted(locations_dir.iterdir()):\n",
    "    if \"positive\" not in data_locations_path.name:\n",
    "        continue\n",
    "\n",
    "    # name of data being processed (training_data, negative_control_data, or positive_control_data)\n",
    "    data_name = data_locations_path.name.replace(\"_locations.tsv\", \"_data\")\n",
    "    print(f\"Running IDR_stream CP for {data_name}\")\n",
    "\n",
    "    # path to temporary data directory that holds intermediate idrstream files\n",
    "    tmp_dir = pathlib.Path(\"tmp/\")\n",
    "    # remove tmp directory if it already exists (ex: from a previous IDR_stream run)\n",
    "    shutil.rmtree(tmp_dir, ignore_errors=True)\n",
    "    # path to final data directory (place final .csv.gz metadata+features are saved)\n",
    "    final_data_dir = pathlib.Path(\n",
    "        f\"../extracted_features__no_ic/{data_name}/CP_features\"\n",
    "    )\n",
    "    # path to log file\n",
    "    log_file_path = pathlib.Path(f\"logs/{data_name}/cp_idrstream.log\")\n",
    "    # remove log file if it already exists\n",
    "    # log_file_path.unlink(missing_ok=True)\n",
    "    # create parent directory for log file if it doesn't exist\n",
    "    log_file_path.parent.mkdir(exist_ok=True, parents=True)\n",
    "\n",
    "    # initialize IDR_stream cp run\n",
    "    stream = CellProfilerRun(\n",
    "        pipeline_path,\n",
    "        plugins_directory,\n",
    "        idr_id,\n",
    "        tmp_dir,\n",
    "        final_data_dir,\n",
    "        log=log_file_path,\n",
    "    )\n",
    "\n",
    "    # pandas dataframe with plate/well/frame image location data for IDR_stream\n",
    "    data_to_process = pd.read_csv(data_locations_path, sep=\"\\t\", index_col=0)\n",
    "\n",
    "    # init downloader\n",
    "    stream.init_downloader(aspera_path, aspera_key_path, screens_path, idr_index_name)\n",
    "\n",
    "    # init preprocessor\n",
    "    stream.init_preprocessor(fiji_path, perform_illumination_correction)\n",
    "\n",
    "    # run cp IDR_stream!\n",
    "    stream.run_cp_stream(\n",
    "        data_to_process,\n",
    "        batch_size=10,\n",
    "        start_batch=0,\n",
    "        batch_nums=[69, 71, 123, 160, 226]\n",
    "        )"
   ]
  }
 ],
 "metadata": {
  "kernelspec": {
   "display_name": "Python 3.8.13 ('idrstream_cp')",
   "language": "python",
   "name": "python3"
  },
  "language_info": {
   "codemirror_mode": {
    "name": "ipython",
    "version": 3
   },
   "file_extension": ".py",
   "mimetype": "text/x-python",
   "name": "python",
   "nbconvert_exporter": "python",
   "pygments_lexer": "ipython3",
   "version": "3.8.13"
  },
  "orig_nbformat": 4,
  "vscode": {
   "interpreter": {
    "hash": "00511e853dd305362128087115a302b393aa6752b90db0accb1b4a560f5b1520"
   }
  }
 },
 "nbformat": 4,
 "nbformat_minor": 2
}
