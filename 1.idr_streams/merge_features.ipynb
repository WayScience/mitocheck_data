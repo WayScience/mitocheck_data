{
 "cells": [
  {
   "cell_type": "code",
   "execution_count": 8,
   "metadata": {},
   "outputs": [],
   "source": [
    "import pathlib\n",
    "import sys\n",
    "import itertools\n",
    "\n",
    "import pandas as pd\n",
    "\n",
    "sys.path.append(\"IDR_stream/\")\n",
    "from idrstream.merge_CP_DP import save_merged_CP_DP_run"
   ]
  },
  {
   "cell_type": "code",
   "execution_count": 9,
   "metadata": {},
   "outputs": [],
   "source": [
    "# path to directory with IDR_stream run outputs (training_data, negative_control_data, positive_control_data)\n",
    "extracted_features = pathlib.Path(\"extracted_features/\")\n",
    "\n",
    "data_types = [\"negative_control_data\", \"positive_control_data\", \"training_data\"]\n",
    "dataset_types = [\"ic\", \"no_ic\"]\n",
    "\n",
    "data_types = [\"negative_control_data\"]\n",
    "dataset_types = [\"ic\"]"
   ]
  },
  {
   "cell_type": "code",
   "execution_count": 10,
   "metadata": {},
   "outputs": [
    {
     "name": "stdout",
     "output_type": "stream",
     "text": [
      "Merging streams for data type negative_control_data and dataset type ic\n",
      "extracted_features/negative_control_data__ic\n"
     ]
    }
   ],
   "source": [
    "for data_type, dataset_type in itertools.product(data_types, dataset_types):\n",
    "    print(f\"Merging streams for data type {data_type} and dataset type {dataset_type}\")\n",
    "    \n",
    "    base_dir_path = pathlib.Path(f\"{extracted_features}/{data_type}__{dataset_type}/\")\n",
    "    print(base_dir_path)\n",
    "\n",
    "    # specify paths to CP, DP and merged data\n",
    "    cp_data_dir_path = pathlib.Path(f\"{base_dir_path}/CP_features\")\n",
    "    dp_data_dir_path = pathlib.Path(f\"{base_dir_path}/DP_features\")\n",
    "    merged_data_dir_path = pathlib.Path(f\"{base_dir_path}/merged_features\")\n",
    "\n",
    "    # merge CP and DP runs!\n",
    "    save_merged_CP_DP_run(cp_data_dir_path, dp_data_dir_path, merged_data_dir_path)"
   ]
  }
 ],
 "metadata": {
  "kernelspec": {
   "display_name": "idrstream_merge",
   "language": "python",
   "name": "python3"
  },
  "language_info": {
   "codemirror_mode": {
    "name": "ipython",
    "version": 3
   },
   "file_extension": ".py",
   "mimetype": "text/x-python",
   "name": "python",
   "nbconvert_exporter": "python",
   "pygments_lexer": "ipython3",
   "version": "3.8.13"
  }
 },
 "nbformat": 4,
 "nbformat_minor": 2
}
